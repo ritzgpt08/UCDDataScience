{
 "cells": [
  {
   "cell_type": "markdown",
   "id": "3bc4edb0-32c4-4edd-8ce8-59e8b69a6018",
   "metadata": {},
   "source": [
    "### Stage 1"
   ]
  },
  {
   "cell_type": "markdown",
   "id": "5f21f980-0385-4ab9-8bb9-2781348c6613",
   "metadata": {},
   "source": [
    "#### Importing and concatenating the Tables "
   ]
  },
  {
   "cell_type": "code",
   "execution_count": 323,
   "id": "41d4b7f2-ce1c-4dc0-a486-1e9a0700875e",
   "metadata": {
    "collapsed": true,
    "jupyter": {
     "outputs_hidden": true
    }
   },
   "outputs": [],
   "source": [
    "# Setting up the environment\n",
    "import os\n",
    "import pandas as pd\n",
    "import numpy as np\n",
    "import re\n",
    "import numpy as np\n",
    "import ast\n"
   ]
  },
  {
   "cell_type": "code",
   "execution_count": 325,
   "id": "792f3609-a4b8-4cb3-b2d5-576826384008",
   "metadata": {
    "collapsed": true,
    "jupyter": {
     "outputs_hidden": true
    }
   },
   "outputs": [],
   "source": [
    "from nltk.stem import WordNetLemmatizer\n",
    "from nltk.corpus import wordnet\n",
    "from nltk import download\n",
    "from tqdm import tqdm"
   ]
  },
  {
   "cell_type": "code",
   "execution_count": null,
   "id": "c4c43ad0-c2e6-42f3-ac46-92688e9f3d5c",
   "metadata": {
    "collapsed": true,
    "jupyter": {
     "outputs_hidden": true
    }
   },
   "outputs": [],
   "source": [
    "# Folder path where CSV files are located\n",
    "folder_path = r\"D:\\UCD\\Geostatistics\\Project\\usc-x-24-us-election-main\\CSV_Selected2\"\n",
    "\n",
    "# Get a list of all CSV files in the folder\n",
    "csv_files = [f for f in os.listdiiir(folder_path) if f.endswith('.csv')]\n",
    "\n",
    "# List to store individual dataframes\n",
    "dfs = []\n",
    "\n",
    "# Read each CSV file and append it to the list\n",
    "for file in csv_files:\n",
    "    file_path = os.path.join(folder_path, file)\n",
    "    df = pd.read_csv(file_path)\n",
    "    dfs.append(df)\n",
    "\n",
    "# Concatenate all dataframes into a single dataframe\n",
    "final_df = pd.concat(dfs, ignore_index=True)"
   ]
  },
  {
   "cell_type": "code",
   "execution_count": null,
   "id": "d35e8db9-e92f-4937-94d8-c82ea45dac56",
   "metadata": {
    "collapsed": true,
    "jupyter": {
     "outputs_hidden": true
    }
   },
   "outputs": [],
   "source": [
    "dff = final_df\n",
    "dff.to_csv(r\"D:\\UCD\\Geostatistics\\Project\\usc-x-24-us-election-main\\Output2\\SelectedTweetChunks.csv\")"
   ]
  },
  {
   "cell_type": "code",
   "execution_count": null,
   "id": "e7ea8e23-6fad-4bde-b697-b7ba0f4bd2e2",
   "metadata": {
    "collapsed": true,
    "jupyter": {
     "outputs_hidden": true
    },
    "scrolled": true
   },
   "outputs": [],
   "source": [
    "# Verifying if there is any location data\n",
    "(list(dff[\"location\"].unique()))"
   ]
  },
  {
   "cell_type": "code",
   "execution_count": null,
   "id": "c70b0506-bfa7-46d9-9866-74241c62ffcd",
   "metadata": {
    "collapsed": true,
    "jupyter": {
     "outputs_hidden": true
    }
   },
   "outputs": [],
   "source": [
    "(list(dff.columns))"
   ]
  },
  {
   "cell_type": "markdown",
   "id": "c10f3fd9-f29a-400d-b0b7-0745df567b64",
   "metadata": {},
   "source": [
    "#### Data Cleaning\n",
    "Removing unnecessary columns"
   ]
  },
  {
   "cell_type": "code",
   "execution_count": null,
   "id": "849f384f-e4ad-4e87-ab88-e8b56dcf4d15",
   "metadata": {
    "collapsed": true,
    "jupyter": {
     "outputs_hidden": true
    }
   },
   "outputs": [],
   "source": [
    "# List of columns you want to drop\n",
    "columns_todrop = [\"Unnamed: 0\", \"type\", \"username\", \"url\", \"media\", \"retweetedTweet\", \"retweetedTweetID\", \"location\", \"cash_app_handle\", \"user\", \n",
    "                 \"0\", \"_type\", \"in_reply_to_user_id_str.1\", \"location.1\", \"cash_app_handle.1\", \"user.1\", \"retweetedUserID\", \"id_str\", \"replyCount\",\n",
    "                  \"retweetCount\", \"likeCount\", \"conversationIdStr\", \"mentionedUsers\", \"links\", \"viewCount\", \"quotedTweet\", \"in_reply_to_screen_name\",\n",
    "                  \"in_reply_to_status_id_str\", \"in_reply_to_user_id_str\", \"quoteCount\", \"conversationId\"\n",
    "                 ]\n",
    "remaining_columns = [col for col in dff.columns if col not in columns_todrop]\n",
    "dff[remaining_columns].head()"
   ]
  },
  {
   "cell_type": "code",
   "execution_count": null,
   "id": "87bacc6b-f711-4d70-8ecf-86916d6f105c",
   "metadata": {
    "collapsed": true,
    "jupyter": {
     "outputs_hidden": true
    },
    "scrolled": true
   },
   "outputs": [],
   "source": [
    "# removing unnecessary columns\n",
    "dff.drop(columns=columns_todrop, axis=1, inplace=True)\n",
    "# Remove unnecessary columns\n",
    "dff.head()"
   ]
  },
  {
   "cell_type": "code",
   "execution_count": null,
   "id": "8d1df366-22a3-46e2-a8b0-309ecdd63163",
   "metadata": {
    "collapsed": true,
    "jupyter": {
     "outputs_hidden": true
    }
   },
   "outputs": [],
   "source": [
    "dff.shape"
   ]
  },
  {
   "cell_type": "code",
   "execution_count": null,
   "id": "ca60b6ac-f0ad-427f-9925-6d1805ddbafd",
   "metadata": {
    "collapsed": true,
    "jupyter": {
     "outputs_hidden": true
    }
   },
   "outputs": [],
   "source": [
    "# Keeping only English Tweets using boolean indexing\n",
    "dff = dff[dff[\"lang\"] == 'en']\n",
    "dff.shape"
   ]
  },
  {
   "cell_type": "code",
   "execution_count": null,
   "id": "4321cb32-5a58-4e43-bee3-6bc1b70d1c2d",
   "metadata": {
    "collapsed": true,
    "jupyter": {
     "outputs_hidden": true
    }
   },
   "outputs": [],
   "source": [
    "# Verifying the columns\n",
    "dff.head()"
   ]
  },
  {
   "cell_type": "code",
   "execution_count": null,
   "id": "d0376ec1-85cf-4c38-9295-2bc7183ae20d",
   "metadata": {
    "collapsed": true,
    "jupyter": {
     "outputs_hidden": true
    }
   },
   "outputs": [],
   "source": [
    "# Checking the administrative data\n",
    "cs = pd.read_csv(r\"D:\\UCD\\Geostatistics\\Project\\usc-x-24-us-election-main\\Raw_Administrative.csv\")\n",
    "cs.head(10)"
   ]
  },
  {
   "cell_type": "markdown",
   "id": "88cff271-d154-473a-bf2f-656e3937464f",
   "metadata": {},
   "source": [
    "#### Extracting Location Data from the Tweets"
   ]
  },
  {
   "cell_type": "markdown",
   "id": "b86ac098-20c0-4a18-898d-7e93bb4bd280",
   "metadata": {},
   "source": [
    "##### Extraction based on \"County\" or \"Co.\" suffix or prefix"
   ]
  },
  {
   "cell_type": "code",
   "execution_count": null,
   "id": "26e9b1de-7ca1-479f-9141-073a2e1cc05f",
   "metadata": {
    "collapsed": true,
    "jupyter": {
     "outputs_hidden": true
    }
   },
   "outputs": [],
   "source": [
    "# Dictionary of US state full names and abbreviations\n",
    "state_abbreviations = {\n",
    "    'Alabama': 'AL', 'Alaska': 'AK', 'Arizona': 'AZ', 'Arkansas': 'AR',\n",
    "    'California': 'CA', 'Colorado': 'CO', 'Connecticut': 'CT', 'Delaware': 'DE',\n",
    "    'Florida': 'FL', 'Georgia': 'GA', 'Hawaii': 'HI', 'Idaho': 'ID',\n",
    "    'Illinois': 'IL', 'Indiana': 'IN', 'Iowa': 'IA', 'Kansas': 'KS',\n",
    "    'Kentucky': 'KY', 'Louisiana': 'LA', 'Maine': 'ME', 'Maryland': 'MD',\n",
    "    'Massachusetts': 'MA', 'Michigan': 'MI', 'Minnesota': 'MN', 'Mississippi': 'MS',\n",
    "    'Missouri': 'MO', 'Montana': 'MT', 'Nebraska': 'NE', 'Nevada': 'NV',\n",
    "    'New Hampshire': 'NH', 'New Jersey': 'NJ', 'New Mexico': 'NM', 'New York': 'NY',\n",
    "    'North Carolina': 'NC', 'North Dakota': 'ND', 'Ohio': 'OH', 'Oklahoma': 'OK',\n",
    "    'Oregon': 'OR', 'Pennsylvania': 'PA', 'Rhode Island': 'RI', 'South Carolina': 'SC',\n",
    "    'South Dakota': 'SD', 'Tennessee': 'TN', 'Texas': 'TX', 'Utah': 'UT',\n",
    "    'Vermont': 'VT', 'Virginia': 'VA', 'Washington': 'WA', 'West Virginia': 'WV',\n",
    "    'Wisconsin': 'WI', 'Wyoming': 'WY'\n",
    "}\n",
    "\n",
    "# Improved Regex for Counties\n",
    "def build_location_patterns(cs_df, state_abbreviations):\n",
    "    counties = cs_df['COUNTY_NAME'].dropna().unique()\n",
    "\n",
    "    # Prefix variations (handles both uppercase and lowercase)\n",
    "    prefix_variations = r'(?:County\\s+of\\s+|county\\s+of\\s+|Co\\.?\\s+of\\s+|co\\.?\\s+of\\s+)?'\n",
    "\n",
    "    # Suffix variations (handles uppercase and lowercase)\n",
    "    suffix_variations = r'(?:\\s*(?:County|county|Co\\.?|co\\.?|Co|co|Cnty|cnty|Cty|cty))?'\n",
    "\n",
    "    # Combine into a full pattern for each county\n",
    "    county_pattern = r'\\b(' + '|'.join(\n",
    "        prefix_variations + re.escape(c) + suffix_variations for c in counties\n",
    "    ) + r')\\b'\n",
    "\n",
    "    # Improved Regex for States\n",
    "    states = sorted(state_abbreviations.keys(), key=lambda x: -len(x))  # Longest first\n",
    "    state_names_pattern = r'(?<!\\w)(' + '|'.join(re.escape(s) for s in states) + r')(?!\\w)'\n",
    "    state_abbr_pattern = r'\\b(' + '|'.join(re.escape(abbr) for abbr in state_abbreviations.values()) + r')\\b'\n",
    "\n",
    "    return re.compile(county_pattern, flags=re.IGNORECASE), \\\n",
    "       re.compile(state_names_pattern, flags=re.IGNORECASE), \\\n",
    "       re.compile(state_abbr_pattern, flags=re.IGNORECASE)\n",
    "\n",
    "\n",
    "# Match logic: County + State (or abbrev), or just State\n",
    "def extract_location(text, county_pattern, state_names_pattern, state_abbr_pattern, cs_df, state_abbreviations):\n",
    "    text_lower = str(text).lower()\n",
    "    county_match = county_pattern.search(text_lower)\n",
    "    state_name_match = state_names_pattern.search(text_lower)\n",
    "    state_abbr_match = state_abbr_pattern.search(text_lower)\n",
    "\n",
    "    # Match on County + State Name\n",
    "    if county_match and state_name_match:\n",
    "        county = county_match.group(0).lower()\n",
    "        state = state_name_match.group(0).lower()\n",
    "        match = cs_df[(cs_df['COUNTY_NAME'].str.lower() == county) &\n",
    "                      (cs_df['STATE_NAME'].str.lower() == state)]\n",
    "        if not match.empty:\n",
    "            row = match.iloc[0]\n",
    "            return row[['COUNTY_NAME', 'STATE_NAME', 'COUNTY_CENTROIDX', 'COUNTY_CENTROIDY',\n",
    "                        'STATE_CENTROIDX', 'STATE_CENTROIDY']].tolist()\n",
    "\n",
    "    # Match on County + State Abbreviation\n",
    "    if county_match and state_abbr_match:\n",
    "        county = county_match.group(0).lower()\n",
    "        state_abbr = state_abbr_match.group(0).upper()\n",
    "        state_name = next((k for k, v in state_abbreviations.items() if v == state_abbr), None)\n",
    "        if state_name:\n",
    "            match = cs_df[(cs_df['COUNTY_NAME'].str.lower() == county) &\n",
    "                          (cs_df['STATE_NAME'].str.lower() == state_name.lower())]\n",
    "            if not match.empty:\n",
    "                row = match.iloc[0]\n",
    "                return row[['COUNTY_NAME', 'STATE_NAME', 'COUNTY_CENTROIDX', 'COUNTY_CENTROIDY',\n",
    "                            'STATE_CENTROIDX', 'STATE_CENTROIDY']].tolist()\n",
    "\n",
    "    # Match on just State Name\n",
    "    if state_name_match:\n",
    "        state = state_name_match.group(0).lower()\n",
    "        match = cs_df[cs_df['STATE_NAME'].str.lower() == state]\n",
    "        if not match.empty:\n",
    "            row = match.iloc[0]\n",
    "            return ['NA', row['STATE_NAME'], 'NA', 'NA', row['STATE_CENTROIDX'], row['STATE_CENTROIDY']]\n",
    "\n",
    "    # Match on just State Abbreviation\n",
    "    if state_abbr_match:\n",
    "        state_abbr = state_abbr_match.group(0).upper()\n",
    "        state_name = next((k for k, v in state_abbreviations.items() if v == state_abbr), None)\n",
    "        if state_name:\n",
    "            match = cs_df[cs_df['STATE_NAME'].str.lower() == state_name.lower()]\n",
    "            if not match.empty:\n",
    "                row = match.iloc[0]\n",
    "                return ['NA', row['STATE_NAME'], 'NA', 'NA', row['STATE_CENTROIDX'], row['STATE_CENTROIDY']]\n",
    "\n",
    "    # No match\n",
    "    return ['NA'] * 6\n",
    "\n",
    "# Chunked processing\n",
    "def process_in_chunks(dff, cs_df, state_abbreviations, chunk_size=10000):\n",
    "    county_pattern, state_names_pattern, state_abbr_pattern = build_location_patterns(cs_df, state_abbreviations)\n",
    "    results = []\n",
    "\n",
    "    for start in tqdm(range(0, len(dff), chunk_size), desc=\"Processing tweets\"):\n",
    "        end = min(start + chunk_size, len(dff))\n",
    "        chunk = dff.iloc[start:end].copy()\n",
    "\n",
    "        loc_data = chunk['text'].apply(\n",
    "            lambda x: extract_location(x, county_pattern, state_names_pattern, state_abbr_pattern, cs_df, state_abbreviations)\n",
    "        )\n",
    "        loc_df = pd.DataFrame(loc_data.tolist(), columns=[\n",
    "            'COUNTY_NAME', 'STATE_NAME', 'COUNTY_CENTROIDX', 'COUNTY_CENTROIDY',\n",
    "            'STATE_CENTROIDX', 'STATE_CENTROIDY'\n",
    "        ])\n",
    "        chunk = pd.concat([chunk.reset_index(drop=True), loc_df], axis=1)\n",
    "        results.append(chunk)\n",
    "\n",
    "    return pd.concat(results, ignore_index=True)\n"
   ]
  },
  {
   "cell_type": "code",
   "execution_count": null,
   "id": "a277613a-53c7-4ac7-bed9-19442f334a89",
   "metadata": {
    "collapsed": true,
    "jupyter": {
     "outputs_hidden": true
    }
   },
   "outputs": [],
   "source": [
    "# Execution of the above codeblock for location extraction\n",
    "# === Load your datasets ===\n",
    "dff = pd.read_csv(r\"D:\\UCD\\Geostatistics\\Project\\usc-x-24-us-election-main\\Output2\\SelectedTweetChunks.csv\")\n",
    "cs = pd.read_csv(r\"D:\\UCD\\Geostatistics\\Project\\usc-x-24-us-election-main\\Raw_Administrative.csv\")"
   ]
  },
  {
   "cell_type": "code",
   "execution_count": null,
   "id": "58b9a94b-bc6b-4341-8fce-873f8b6b1efb",
   "metadata": {
    "collapsed": true,
    "jupyter": {
     "outputs_hidden": true
    }
   },
   "outputs": [],
   "source": [
    "dff = dff[dff[\"lang\"]==\"en\"].sample(500000, random_state=11)"
   ]
  },
  {
   "cell_type": "code",
   "execution_count": null,
   "id": "13418b82-2d60-4ae9-90e3-c43879f1a12a",
   "metadata": {
    "collapsed": true,
    "jupyter": {
     "outputs_hidden": true
    }
   },
   "outputs": [],
   "source": [
    "# === Apply threaded processing ===\n",
    "dff_location = process_in_chunks(dff, cs, state_abbreviations, chunk_size=15000)"
   ]
  },
  {
   "cell_type": "code",
   "execution_count": null,
   "id": "2ab83e52-37a7-4ecb-aa25-8b2e89f83f8f",
   "metadata": {
    "collapsed": true,
    "jupyter": {
     "outputs_hidden": true
    }
   },
   "outputs": [],
   "source": [
    "# Exporting the dataset with extracted location\n",
    "dff_location.to_csv(r\"D:\\UCD\\Geostatistics\\Project\\usc-x-24-us-election-main\\Output2\\tweets_locextracted.csv\", index=False)"
   ]
  },
  {
   "cell_type": "markdown",
   "id": "8130192c-36c2-4ca0-a78b-40cde9c1851f",
   "metadata": {},
   "source": [
    "### Stage 2: Location Extracted"
   ]
  },
  {
   "cell_type": "markdown",
   "id": "ce7ec43b-611e-480c-a2dc-823df3a78d86",
   "metadata": {},
   "source": [
    "#### Import from here"
   ]
  },
  {
   "cell_type": "code",
   "execution_count": null,
   "id": "da927c99-0e0c-44e6-89bb-e29302687bab",
   "metadata": {
    "collapsed": true,
    "jupyter": {
     "outputs_hidden": true
    }
   },
   "outputs": [],
   "source": [
    "# Importing the data\n",
    "loc = pd.read_csv(r\"D:\\UCD\\Geostatistics\\Project\\usc-x-24-us-election-main\\Output2\\tweets_locextracted.csv\", index_col=False)"
   ]
  },
  {
   "cell_type": "code",
   "execution_count": null,
   "id": "35b7dae0-3c91-46e1-a73b-cfdc2ec39300",
   "metadata": {
    "collapsed": true,
    "jupyter": {
     "outputs_hidden": true
    }
   },
   "outputs": [],
   "source": [
    "# Removing unnecessary columns\n",
    "# List of columns you want to drop\n",
    "columns_todrop = [\"Unnamed: 0\", \"type\", \"username\", \"url\", \"media\", \"retweetedTweet\", \"retweetedTweetID\", \"location\", \"cash_app_handle\", \"user\", \n",
    "                 \"0\", \"_type\", \"in_reply_to_user_id_str.1\", \"location.1\", \"cash_app_handle.1\", \"user.1\", \"retweetedUserID\", \"id_str\", \"replyCount\",\n",
    "                  \"retweetCount\", \"likeCount\", \"conversationIdStr\", \"mentionedUsers\", \"links\", \"viewCount\", \"quotedTweet\", \"in_reply_to_screen_name\",\n",
    "                  \"in_reply_to_status_id_str\", \"in_reply_to_user_id_str\", \"quoteCount\", \"conversationId\", \"Unnamed: 0.1\"\n",
    "                 ]\n",
    "\n",
    "'''loc.drop(columns=[\"Unnamed: 0.2\",\"Unnamed: 0.1\",\"Unnamed: 0\",\"type\",\"media\",\"retweetedTweet\",\"retweetedTweetID\",\"retweetedUserID\",\n",
    "                          \"id_str\",\"replyCount\",\"retweetCount\",\"likeCount\",\"quoteCount\",\"conversationId\",\"conversationIdStr\",\"hashtags\",\n",
    "                          \"mentionedUsers\",\"links\",\"viewCount\",\"quotedTweet\",\"in_reply_to_screen_name\",\"in_reply_to_status_id_str\",\n",
    "                          \"in_reply_to_user_id_str\",\"cash_app_handle\",\"0\",\"_type\",\"in_reply_to_user_id_str.1\",\"location.1\",\"location\",\"cash_app_handle.1\",\n",
    "                          \"user.1\"], inplace=True) '''\n",
    "\n",
    "remaining_columns = [col for col in loc.columns if col not in columns_todrop]\n",
    "# loc[remaining_columns].head()\n",
    "loc.drop(columns=columns_todrop)"
   ]
  },
  {
   "cell_type": "code",
   "execution_count": null,
   "id": "cd5eb747-9ffb-4df1-bae1-eaf4f53117b1",
   "metadata": {
    "collapsed": true,
    "jupyter": {
     "outputs_hidden": true
    }
   },
   "outputs": [],
   "source": [
    "# Tweets with both county and state location captured\n",
    "county_state_only = loc[loc[\"STATE_NAME\"].notna() & loc[\"COUNTY_NAME\"].notna()]"
   ]
  },
  {
   "cell_type": "code",
   "execution_count": null,
   "id": "1e7e43d1-fc23-4ea9-9bf3-ab712d34c56e",
   "metadata": {
    "collapsed": true,
    "jupyter": {
     "outputs_hidden": true
    }
   },
   "outputs": [],
   "source": [
    "# Tweets with their only state location captured (county+state and state_only)\n",
    "tweet_location = loc[loc[\"STATE_NAME\"].notna()] \n",
    "tweet_location.columns"
   ]
  },
  {
   "cell_type": "code",
   "execution_count": null,
   "id": "51fc7877-3ae1-4af7-a501-2f7f8e022874",
   "metadata": {
    "collapsed": true,
    "jupyter": {
     "outputs_hidden": true
    }
   },
   "outputs": [],
   "source": [
    "coltodrop = [\"Unnamed: 0.1\", \"Unnamed: 0\", \"type\", \"url\", \"media\", \"retweetedTweet\", \"retweetedTweetID\", \"retweetedUserID\",\n",
    "            \"id_str\", \"replyCount\", \"retweetCount\", \"likeCount\", \"quoteCount\", \"conversationId\", \"conversationIdStr\", \"mentionedUsers\",\n",
    "             \"links\", \"viewCount\", \"quotedTweet\", \"in_reply_to_screen_name\", \"in_reply_to_status_id_str\", \"in_reply_to_user_id_str\", \"location\",\n",
    "             \"cash_app_handle\", \"user.1\",\"0\", \"_type\", \"in_reply_to_user_id_str.1\", \"location.1\", \"cash_app_handle.1\" ]"
   ]
  },
  {
   "cell_type": "code",
   "execution_count": null,
   "id": "c66f40db-f603-402e-ab7e-eff283be8cdb",
   "metadata": {
    "collapsed": true,
    "jupyter": {
     "outputs_hidden": true
    }
   },
   "outputs": [],
   "source": [
    "tweet_location.drop(columns=coltodrop, axis=1, inplace=True)"
   ]
  },
  {
   "cell_type": "code",
   "execution_count": null,
   "id": "83548888-a047-4cdd-bcc5-c38cfb4f68af",
   "metadata": {
    "collapsed": true,
    "jupyter": {
     "outputs_hidden": true
    }
   },
   "outputs": [],
   "source": [
    "# Unnecessary columns have been dropped now\n",
    "tweet_location.shape"
   ]
  },
  {
   "cell_type": "code",
   "execution_count": null,
   "id": "e7a1f43b-3d22-4378-96f3-8f729e0e4e96",
   "metadata": {
    "collapsed": true,
    "jupyter": {
     "outputs_hidden": true
    }
   },
   "outputs": [],
   "source": [
    "# Exporting the Data\n",
    "tweet_location.to_csv(r\"D:\\UCD\\Geostatistics\\Project\\usc-x-24-us-election-main\\Output2\\Tweet_Location_Ready.csv\", index=False)"
   ]
  },
  {
   "cell_type": "markdown",
   "id": "26142c94-d03d-4b8f-bb49-2fd1d6b32cf6",
   "metadata": {},
   "source": [
    "### Stage 3: Data ready for Subject Classification"
   ]
  },
  {
   "cell_type": "code",
   "execution_count": 293,
   "id": "1acaa26e-f9e9-4f25-9694-3ce1b5888ead",
   "metadata": {
    "collapsed": true,
    "jupyter": {
     "outputs_hidden": true
    }
   },
   "outputs": [],
   "source": [
    "# If already loaded\n",
    "extweet = tweet_location"
   ]
  },
  {
   "cell_type": "code",
   "execution_count": 306,
   "id": "98162992-868a-4ecc-8f0c-a8493774b189",
   "metadata": {
    "collapsed": true,
    "jupyter": {
     "outputs_hidden": true
    }
   },
   "outputs": [],
   "source": [
    "# If not loaded\n",
    "extweet = pd.read_csv(r\"D:\\UCD\\Geostatistics\\Project\\usc-x-24-us-election-main\\Output2\\Tweet_Location_Ready.csv\", index_col=False)"
   ]
  },
  {
   "cell_type": "code",
   "execution_count": null,
   "id": "564b0e9f-083b-473f-8a62-e4be75325637",
   "metadata": {
    "collapsed": true,
    "jupyter": {
     "outputs_hidden": true
    }
   },
   "outputs": [],
   "source": [
    "extweet.head()"
   ]
  },
  {
   "cell_type": "code",
   "execution_count": null,
   "id": "ace07f8b-5056-40f9-9814-37450ceb7359",
   "metadata": {
    "collapsed": true,
    "jupyter": {
     "outputs_hidden": true
    }
   },
   "outputs": [],
   "source": [
    "extweet.drop(columns= \"Unnamed: 0\", axis=1, inplace=True)"
   ]
  },
  {
   "cell_type": "markdown",
   "id": "ad21ef94-96ed-4b5f-8bd4-59b543412d8a",
   "metadata": {},
   "source": [
    "#### Extracting pure hashtags from list of dictionaries"
   ]
  },
  {
   "cell_type": "code",
   "execution_count": 308,
   "id": "287670f8-1956-4e57-a10f-bb744c5abde1",
   "metadata": {
    "collapsed": true,
    "jupyter": {
     "outputs_hidden": true
    }
   },
   "outputs": [],
   "source": [
    "import ast\n",
    "\n",
    "for index, hash_str in enumerate(extweet[\"hashtags\"]):\n",
    "    if isinstance(hash_str, str) and hash_str != \"[]\":\n",
    "        extweet.at[index, \"hashtags\"] = ast.literal_eval(hash_str)"
   ]
  },
  {
   "cell_type": "code",
   "execution_count": 313,
   "id": "1f2f10d8-d18e-4e0d-b0f4-d3ce07586e0e",
   "metadata": {
    "collapsed": true,
    "jupyter": {
     "outputs_hidden": true
    }
   },
   "outputs": [],
   "source": [
    "tagholder = []\n",
    "for index, hash_str in enumerate(extweet[\"hashtags\"]):\n",
    "    if isinstance(hash_str, list):\n",
    "        for dict_item in hash_str:\n",
    "            if isinstance(dict_item, dict) and \"text\" in dict_item:\n",
    "                tagholder.append(dict_item[\"text\"])\n",
    "        extweet.at[index, \"hashtags\"] = tagholder\n",
    "    tagholder = []"
   ]
  },
  {
   "cell_type": "code",
   "execution_count": null,
   "id": "772a095f-fb6e-4956-b4f4-f56970cbe948",
   "metadata": {
    "collapsed": true,
    "jupyter": {
     "outputs_hidden": true
    }
   },
   "outputs": [],
   "source": [
    "extweet[extweet[\"hashtags\"].apply(lambda x: x != \"[]\" )][\"hashtags\"]"
   ]
  },
  {
   "cell_type": "code",
   "execution_count": 326,
   "id": "1fd936bd-4a0b-444d-9053-60525cf5b872",
   "metadata": {
    "collapsed": true,
    "jupyter": {
     "outputs_hidden": true
    }
   },
   "outputs": [],
   "source": [
    "extweet.to_csv(r\"D:\\UCD\\Geostatistics\\Project\\usc-x-24-us-election-main\\Output2\\Tweet_Location_Hashtag_Ready.csv\")"
   ]
  },
  {
   "cell_type": "markdown",
   "id": "c5e7f3a5-9565-46a6-aa1f-34746c207b0a",
   "metadata": {},
   "source": [
    "### Stage 4: Text classification for Subject definition (Democrat vs Republican)"
   ]
  },
  {
   "cell_type": "code",
   "execution_count": null,
   "id": "3c5b68fc-27cd-4468-b28b-277fe6635ef9",
   "metadata": {
    "collapsed": true,
    "jupyter": {
     "outputs_hidden": true
    }
   },
   "outputs": [],
   "source": [
    "import pandas as pd\n",
    "extweet.read_csv(r\"D:\\UCD\\Geostatistics\\Project\\usc-x-24-us-election-main\\Output2\\Tweet_Location_Hashtag_Ready.csv\", index_col=False)"
   ]
  },
  {
   "cell_type": "markdown",
   "id": "2f9a0994-8e27-4e64-9763-bece76df42b0",
   "metadata": {},
   "source": [
    "#### Defining party specific keywords"
   ]
  },
  {
   "cell_type": "code",
   "execution_count": 322,
   "id": "23eefb9c-49fb-4db9-bcc0-7309b23be132",
   "metadata": {
    "collapsed": true,
    "jupyter": {
     "outputs_hidden": true
    }
   },
   "outputs": [],
   "source": [
    "party_keywords = {\n",
    "    \"Democrat\": [\n",
    "        # Politicians (Federal & State)\n",
    "        \"Kamala\", \"Harris\", \"Joe\", \"Biden\", \"Pelosi\", \"Walz\", \"AOC\", \"Alexandria Ocasio-Cortez\",\n",
    "        \"Gavin Newsom\", \"Hakeem Jeffries\", \"Cory Booker\", \"Elizabeth Warren\", \"Bernie Sanders\",\n",
    "        \"Pete Buttigieg\", \"Amy Klobuchar\", \"Stacey Abrams\", \"Julian Castro\", \"Gretchen Whitmer\",\n",
    "        \"Ro Khanna\", \"Katie Porter\", \"Jamie Raskin\", \"Adam Schiff\", \"Raphael Warnock\", \"Jon Ossoff\",\n",
    "        \"Maxwell Frost\", \"Mitch Landrieu\", \"Andy Beshear\", \"Josh Shapiro\", \"Wes Moore\",\n",
    "        \"Jeffries\", \"Schumer\", \"Durbin\", \"Brown\", \"Sinema\", \"Fetterman\", \"Kelly\", \"Rosen\",\n",
    "        \"Sherrod Brown\", \"Maggie Hassan\", \"Catherine Cortez Masto\", \"Mark Kelly\", \"Tina Smith\",\n",
    "\n",
    "        # Influencers & Activists (Progressive)\n",
    "        \"Deja Foxx\", \"Nabela Noor\", \"Carlos Eduardo Espina\", \"Olivia Julianna\", \"John Russell\",\n",
    "        \"Kat Abughazaleh\", \"Awa Sanneh\", \"Elizabeth Booker Houston\", \"Malynda Hale\",\n",
    "        \"David Hogg\", \"Greta Thunberg\", \"Linda Sarsour\", \"Shaun King\", \"Ibram X. Kendi\",\n",
    "        \"Rashida Tlaib\", \"Ilhan Omar\", \"Ayanna Pressley\", \"Dolores Huerta\", \"Gloria Steinem\",\n",
    "        \"Robert Reich\", \"Van Jones\", \"Michael Moore\", \"Naomi Klein\", \"Anand Giridharadas\",\n",
    "\n",
    "        # Celebrities & Endorsers (Liberal)\n",
    "        \"Taylor Swift\", \"Beyoncé\", \"Bruce Springsteen\", \"Cher\", \"Zendaya\", \"Sia\", \"Rosie O'Donnell\",\n",
    "        \"Olivia Wilde\", \"Sophia Bush\", \"Shailene Woodley\", \"Ana Navarro\", \"Arnold Schwarzenegger\",\n",
    "        \"Kodak Black\", \"Nicky Jam\", \"George Clooney\", \"Leonardo DiCaprio\", \"Lady Gaga\",\n",
    "        \"Mark Ruffalo\", \"Kerry Washington\", \"Jane Fonda\", \"Robert De Niro\", \"Barbra Streisand\",\n",
    "        \"Stephen Colbert\", \"Trevor Noah\", \"John Oliver\", \"Samantha Bee\", \"Seth Meyers\",\n",
    "\n",
    "        # Hashtags & Slogans (Progressive & Inclusive)\n",
    "        \"BlueWave\", \"VoteBlue\", \"Resist\", \"TheResistance\", \"Democrats\", \"Dems\", \"TeamKamala\",\n",
    "        \"BuildBackBetter\", \"MedicareForAll\", \"ClimateAction\", \"GunControlNow\", \"BlackLivesMatter\",\n",
    "        \"MeToo\", \"LoveIsLove\", \"EqualityForAll\", \"JusticeReform\", \"GreenNewDeal\",\n",
    "        \"BidenHarris\", \"DemocracyIsOnTheBallot\", \"WomensRightsAreHumanRights\", \"VoteThemOut\",\n",
    "        \"ProtectOurKids\", \"StopTheBans\", \"KeepOurRights\", \"ClimateCrisis\", \"DefendDemocracy\",\n",
    "        \"BlueStates\", \"BlueCities\", \"VoteForChange\", \"HealthcareIsAHumanRight\", \"EndGunViolence\",\n",
    "        \"SaveOurPlanet\", \"FutureIsFemale\", \"NoBanNoWall\", \"ScienceIsReal\", \"TransRights\",\n",
    "        \"VoterRights\", \"ExpandTheCourt\", \"TaxTheBillionaires\", \"CancelStudentDebt\", \"InvestInOurFuture\",\n",
    "        \"UniteBlue\", \"StrongerTogether\", \"ForThePeople\", \"OurRightsOurFuture\", \"PowerToThePolls\",\n",
    "\n",
    "        # Policies & Agendas (Social & Economic Justice)\n",
    "        \"Affordable Care Act\", \"Medicare for All\", \"Green New Deal\", \"Climate Change\", \"Gun Control\",\n",
    "        \"LGBTQ+ Rights\", \"Reproductive Rights\", \"Voting Rights\", \"Student Loan Forgiveness\",\n",
    "        \"Universal Pre-K\", \"Paid Family Leave\", \"Minimum Wage Increase\", \"Police Reform\",\n",
    "        \"Criminal Justice Reform\", \"Immigration Reform\", \"DACA\", \"Net Neutrality\", \"Renewable Energy\",\n",
    "        \"Tax the Rich\", \"Wealth Tax\", \"Universal Healthcare\", \"Public Option\", \"Social Justice\",\n",
    "        \"Economic Equality\", \"Environmental Protection\", \"Child Tax Credit\", \"Affordable Housing\",\n",
    "        \"Racial Justice\", \"Equity\", \"TransRightsAreHumanRights\", \"ProtectOurDemocracy\", \"CombatInflation\",\n",
    "        \"InfrastructureBill\", \"InflationReductionAct\", \"StrengthenUnions\", \"ExpandAccessToHealthcare\",\n",
    "        \"DefendChoice\", \"CodifyRoeVWade\", \"AddressSystemicRacism\", \"ProtectVotingRights\", \"InvestInEducation\",\n",
    "        \"SupportSmallBusinesses\", \"FightForOurFuture\", \"EndCitizensUnited\", \"CampaignFinanceReform\",\n",
    "        \"ExpandSocialSecurity\", \"LowerPrescriptionCosts\", \"InvestInCleanEnergy\", \"ProtectPublicLands\",\n",
    "        \"SupportFarmers\", \"PromoteFairTrade\", \"EndGunViolenceEpidemic\", \"ProtectOurChildren\",\n",
    "        \"ExpandBackgroundChecks\", \"RaiseTheWage\", \"WorkersRights\", \"AffordableChildcare\", \"FreeCollege\",\n",
    "\n",
    "        # Demographics & Coalitions\n",
    "        \"YoungVoters\", \"BlackVoters\", \"LatinxVote\", \"AsianAmericanVote\", \"WomenVote\", \"UnionMembers\",\n",
    "        \"ProgressiveCaucus\", \"NewDemocratCoalition\", \"CongressionalBlackCaucus\", \"HispanicCaucus\",\n",
    "        \"LGBTQCaucus\", \"EnvironmentalCaucus\",\n",
    "\n",
    "        # Media & News Outlets (Liberal-leaning)\n",
    "        \"MSNBC\", \"CNN\", \"TheNewYorkTimes\", \"TheWashingtonPost\", \"NPR\", \"Vox\", \"TheNation\",\n",
    "        \"MotherJones\", \"DemocracyNow\", \"TheDailyShow\",\n",
    "    ],\n",
    "    \"Republican\": [\n",
    "        # Politicians (Federal & State)\n",
    "        \"Donald Trump\", \"Trump\", \"Ron DeSantis\", \"Nikki Haley\", \"Tim Scott\", \"Vivek Ramaswamy\",\n",
    "        \"Mike Pence\", \"Kristi Noem\", \"Greg Abbott\", \"Ted Cruz\", \"Josh Hawley\", \"Marjorie Taylor Greene\",\n",
    "        \"Lauren Boebert\", \"Jim Jordan\", \"Matt Gaetz\", \"Elise Stefanik\", \"J.D. Vance\", \"RFK Jr.\",\n",
    "        \"Mike Johnson\", \"Steve Scalise\", \"Tom Cotton\", \"Rick Scott\", \"Marco Rubio\", \"Lindsey Graham\",\n",
    "        \"Doug Burgum\", \"Kevin McCarthy\", \"Byron Donalds\", \"Jim Banks\", \"Ted Budd\",\n",
    "        \"Ted Budd\", \"Mitch McConnell\", \"John Thune\", \"John Cornyn\", \"Tom Emmer\", \"Jim Comer\",\n",
    "        \"Kevin Cramer\", \"Cynthia Lummis\", \"Tommy Tuberville\", \"Rand Paul\",\n",
    "\n",
    "        # Influencers & Activists (Conservative)\n",
    "        \"Charlie Kirk\", \"Candace Owens\", \"Ben Shapiro\", \"Tucker Carlson\", \"Dan Bongino\", \"Sean Hannity\",\n",
    "        \"Laura Ingraham\", \"Mark Levin\", \"Steven Crowder\", \"Matt Walsh\", \"Jesse Watters\", \"Glenn Beck\",\n",
    "        \"Jack Posobiec\", \"James O'Keefe\", \"Sebastian Gorka\", \"Alex Jones\", \"Richard Grenell\",\n",
    "        \"Andy Ngo\", \"Jordan Peterson\", \"Dennis Prager\", \"Dave Rubin\", \"Michael Knowles\",\n",
    "        \"James Lindsay\", \"Jack Hibbs\", \"Seth Dillon\",\n",
    "\n",
    "        # Celebrities & Endorsers (Conservative)\n",
    "        \"Elon Musk\", \"Kid Rock\", \"Hulk Hogan\", \"Waka Flocka\", \"Amber Rose\", \"Zachary Levi\",\n",
    "        \"Brittany Mahomes\", \"James Woods\", \"Scott Baio\", \"Kanye West\", \"Roseanne Barr\", \"Jon Voight\",\n",
    "        \"Dana White\", \"Travis Tritt\", \"Antonio Sabato Jr.\", \"Kevin Sorbo\",\n",
    "        \"Dennis Quaid\", \"Isaiah Washington\", \"Kristy Swanson\", \"Dean Cain\", \"Kevin Sorbo\",\n",
    "        \"Ted Nugent\", \"Scott Stapp\", \"Ricky Schroder\",\n",
    "\n",
    "        # Hashtags & Slogans (Conservative & Nationalist)\n",
    "        \"MAGA\", \"Trump2024\", \"SaveAmerica\", \"AmericaFirst\", \"DrainTheSwamp\", \"KAG\",\n",
    "        \"KeepAmericaGreat\", \"WalkAway\", \"BackTheBlue\", \"2A\", \"ProLife\", \"StopTheSteal\",\n",
    "        \"ElectionIntegrity\", \"BuildTheWall\", \"SecureTheBorder\", \"LawAndOrder\", \"Patriot\",\n",
    "        \"Conservative\", \"Republicans\", \"GOP\", \"RedWave\", \"TrumpTrain\", \"MAGA2024\",\n",
    "        \"DeSantis2024\", \"Haley2024\", \"TakeBackAmerica\", \"LetsGoBrandon\", \"NoMoreBiden\",\n",
    "        \"StopTheWoke\", \"ParentalRights\", \"FreedomOverFauci\", \"SocialismSucks\", \"RedStates\",\n",
    "        \"RedCities\", \"SaveOurChildren\", \"DefendOurBorders\", \"ConstitutionMatters\",\n",
    "        \"FakeNews\", \"DeepState\", \"SilentMajority\", \"LiberalTears\", \"StopTheCheat\",\n",
    "        \"OpenTheBooks\", \"BidenCrimeFamily\", \"HunterBiden\", \"BigTechCensorship\", \"GlobalistAgenda\",\n",
    "        \"AmericaOrBust\", \"GodGunsAndTrump\", \"WokeMindVirus\", \"SaveOurSchools\", \"NoToMandates\",\n",
    "        \"StopTheSteal2\", \"TrustThePlan\", \"WWG1WGA\", \"HoldTheLine\", \"FightForFreedom\",\n",
    "\n",
    "        # Policies & Agendas (Fiscal & Social Conservatism)\n",
    "        \"Second Amendment\", \"Pro-Life\", \"Border Security\", \"Tax Cuts\", \"Deregulation\", \"Gun Rights\",\n",
    "        \"Religious Freedom\", \"Election Integrity\", \"School Choice\", \"Energy Independence\",\n",
    "        \"America First\", \"Law and Order\", \"Strong Military\", \"Traditional Values\", \"Free Market\",\n",
    "        \"Limited Government\", \"Lower Taxes\", \"Strong Borders\", \"Immigration Reform\", \"Anti-CRT\",\n",
    "        \"Parental Rights\", \"Voter ID Laws\", \"Economic Freedom\", \"National Security\", \"Patriotism\",\n",
    "        \"StopCriticalRaceTheory\", \"ProtectOurKids\", \"SecureTheBorder\", \"DefendTheSecondAmendment\",\n",
    "        \"PromoteSchoolChoice\", \"CutSpending\", \"FightInflation\", \"RestoreAmericanValues\",\n",
    "        \"OpposeVaccineMandates\", \"DefendReligiousLiberty\", \"ReduceGovernmentRegulation\",\n",
    "        \"ProtectOurElections\", \"SupportLawEnforcement\", \"EnergyDominance\", \"EndWokePolicies\",\n",
    "        \"SecureOurFuture\", \"DefundTheFBI\", \"StopTheRadicalLeft\", \"ProtectOurVeterans\",\n",
    "        \"FiscalResponsibility\", \"ConstitutionalCarry\", \"Originalism\", \"Textualism\",\n",
    "        \"EndIllegalImmigration\", \"ProtectOurSovereignty\", \"FreeSpeech\", \"StopBigGovernment\",\n",
    "        \"BalancedBudget\", \"TermLimits\", \"StatesRights\", \"Deregulation\", \"FreeMarketHealthcare\",\n",
    "\n",
    "        # Demographics & Coalitions\n",
    "        \"EvangelicalVote\", \"RuralVoters\", \"SmallBusinessOwners\", \"ConservativeWomen\", \"VeteransForTrump\",\n",
    "        \"FreedomCaucus\", \"RepublicanStudyCommittee\", \"TeaPartyMovement\", \"SecondAmendmentCaucus\",\n",
    "        \"ValuesVoters\",\n",
    "\n",
    "        # Media & News Outlets (Conservative-leaning)\n",
    "        \"FoxNews\", \"Newsmax\", \"OANN\", \"Breitbart\", \"TheDailyWire\", \"TheBlaze\", \"Townhall\",\n",
    "        \"WashingtonTimes\", \"TheFederalist\", \"SalemRadio\",\n",
    "    ]\n",
    "}"
   ]
  },
  {
   "cell_type": "markdown",
   "id": "bcc664d8-97fa-445c-9940-5d0b04d09b1e",
   "metadata": {},
   "source": [
    "#### Defining Tweet Subjects from Party Keywords"
   ]
  },
  {
   "cell_type": "code",
   "execution_count": 327,
   "id": "4a2c017c-b131-47cf-819e-6dea9f313d4b",
   "metadata": {},
   "outputs": [
    {
     "name": "stderr",
     "output_type": "stream",
     "text": [
      "[nltk_data] Downloading package wordnet to\n",
      "[nltk_data]     C:\\Users\\Rhitwik\\AppData\\Roaming\\nltk_data...\n",
      "[nltk_data]   Package wordnet is already up-to-date!\n",
      "[nltk_data] Downloading package omw-1.4 to\n",
      "[nltk_data]     C:\\Users\\Rhitwik\\AppData\\Roaming\\nltk_data...\n",
      "[nltk_data]   Package omw-1.4 is already up-to-date!\n",
      "Classifying Tweets: 100%|██████████| 227112/227112 [01:37<00:00, 2319.59it/s]\n"
     ]
    }
   ],
   "source": [
    "import numpy as np\n",
    "import ast\n",
    "import re\n",
    "from nltk.stem import WordNetLemmatizer\n",
    "from nltk.corpus import wordnet\n",
    "from nltk import download\n",
    "from tqdm import tqdm\n",
    "\n",
    "# Download necessary NLTK resources\n",
    "download('wordnet')\n",
    "download('omw-1.4')\n",
    "\n",
    "# Initialize lemmatizer\n",
    "lemmatizer = WordNetLemmatizer()\n",
    "\n",
    "# STEP 1: Make sure 'hashtags' is in list format\n",
    "def ensure_list(hashtag_str):\n",
    "    if isinstance(hashtag_str, list):\n",
    "        return hashtag_str\n",
    "    try:\n",
    "        return ast.literal_eval(hashtag_str)\n",
    "    except Exception:\n",
    "        return []\n",
    "\n",
    "# STEP 2: Lemmatize a text or hashtag\n",
    "def lemmatize_words(text):\n",
    "    # Lowercase, remove special characters, split, lemmatize each word\n",
    "    words = re.findall(r'\\w+', text.lower())\n",
    "    return [lemmatizer.lemmatize(word) for word in words]\n",
    "\n",
    "# STEP 3: Classification Function\n",
    "def classify_tweet(content, hashtags, party_keywords):\n",
    "    # Combine and lemmatize content and hashtags\n",
    "    all_words = lemmatize_words(content)\n",
    "    for tag in hashtags:\n",
    "        all_words += lemmatize_words(tag)\n",
    "\n",
    "    # Convert to set for fast lookup\n",
    "    word_set = set(all_words)\n",
    "\n",
    "    # Count matches\n",
    "    dem_matches = any(kw.lower() in word_set for kw in party_keywords[\"Democrat\"])\n",
    "    rep_matches = any(kw.lower() in word_set for kw in party_keywords[\"Republican\"])\n",
    "\n",
    "    # Decide subject\n",
    "    if dem_matches and not rep_matches:\n",
    "        return \"Democrat\"\n",
    "    elif rep_matches and not dem_matches:\n",
    "        return \"Republican\"\n",
    "    else:\n",
    "        return np.nan  # Mixed or no clear match\n",
    "\n",
    "# STEP 4: Apply on your DataFrame with tqdm progress bar\n",
    "tqdm.pandas(desc=\"Classifying Tweets\")\n",
    "\n",
    "extweet[\"hashtags\"] = extweet[\"hashtags\"].apply(ensure_list)\n",
    "extweet[\"subject\"] = extweet.progress_apply(\n",
    "    lambda row: classify_tweet(row[\"text\"], row[\"hashtags\"], party_keywords),\n",
    "    axis=1\n",
    ")"
   ]
  },
  {
   "cell_type": "code",
   "execution_count": 341,
   "id": "4c4ed645-5b56-4509-83eb-ef46226a92a9",
   "metadata": {
    "collapsed": true,
    "jupyter": {
     "outputs_hidden": true
    }
   },
   "outputs": [],
   "source": [
    "pd.set_option('display.max_colwidth', None)"
   ]
  },
  {
   "cell_type": "code",
   "execution_count": null,
   "id": "5eed978a-42cc-413c-b6c6-5d3a86237891",
   "metadata": {
    "collapsed": true,
    "jupyter": {
     "outputs_hidden": true
    }
   },
   "outputs": [],
   "source": [
    "extweet[[\"text\", \"subject\"]].sample(50)"
   ]
  },
  {
   "cell_type": "markdown",
   "id": "9eca8b65-3976-4ff1-ac4f-8f21e1409dc2",
   "metadata": {},
   "source": [
    "#### Subject has been defined based on hashtags and rawContent"
   ]
  },
  {
   "cell_type": "markdown",
   "id": "88bef465-5efc-4c34-9c73-16894c2f1123",
   "metadata": {},
   "source": [
    "#### Machine Learning Training and Deployment for defining the missing tweet subjects (Where hashtags were missing) "
   ]
  },
  {
   "cell_type": "code",
   "execution_count": null,
   "id": "305dd905-ea51-4d17-9904-a86cb28cf2fb",
   "metadata": {
    "collapsed": true,
    "jupyter": {
     "outputs_hidden": true
    }
   },
   "outputs": [],
   "source": [
    "from sklearn.model_selection import train_test_split\n",
    "from sklearn.feature_extraction.text import TfidfVectorizer\n",
    "from sklearn.linear_model import LogisticRegression\n",
    "from sklearn.pipeline import Pipeline\n",
    "from sklearn.metrics import accuracy_score, classification_report\n",
    "from sklearn.model_selection import cross_val_score\n",
    "from tqdm import tqdm\n",
    "\n",
    "# Initialize tqdm for progress tracking\n",
    "tqdm.pandas(desc=\"Processing Rows\")\n",
    "\n",
    "# STEP 1: Preprocess and clean data\n",
    "# Combine 'rawContent' and 'hashtags' into one field for feature extraction\n",
    "extweet['combined_features'] = extweet['rawContent'] + \" \" + extweet['hashtags'].apply(lambda x: \" \".join(x))\n",
    "\n",
    "# STEP 2: Prepare training data\n",
    "# Remove rows with NaN subject (invalid rows)\n",
    "train_data = extweet.dropna(subset=[\"subject\"])\n",
    "\n",
    "# Features and labels\n",
    "X = train_data['combined_features']  # Text data\n",
    "y = train_data['subject']  # Labels (Democrat / Republican)\n",
    "\n",
    "# STEP 3: Train-test split\n",
    "X_train, X_test, y_train, y_test = train_test_split(X, y, test_size=0.2, random_state=42)\n",
    "\n",
    "# STEP 4: Build a pipeline with TF-IDF vectorization and Logistic Regression\n",
    "model = Pipeline([\n",
    "    ('tfidf', TfidfVectorizer(stop_words='english', max_features=10000)),\n",
    "    ('clf', LogisticRegression(max_iter=1000, random_state=42))\n",
    "])\n",
    "\n",
    "# STEP 5: Train the model\n",
    "model.fit(X_train, y_train)\n",
    "\n",
    "# STEP 6: Make predictions on the test set\n",
    "y_pred = model.predict(X_test)\n",
    "\n",
    "# STEP 7: Evaluate the model\n",
    "accuracy = accuracy_score(y_test, y_pred)\n",
    "print(f'Accuracy on test set: {accuracy * 100:.2f}%')\n",
    "\n",
    "# Print detailed classification report\n",
    "print(\"\\nClassification Report:\")\n",
    "print(classification_report(y_test, y_pred))\n",
    "\n",
    "# STEP 8: Optional - Cross-validation (for better evaluation)\n",
    "cross_val = cross_val_score(model, X, y, cv=5)\n",
    "print(f'Cross-validation accuracy: {cross_val.mean() * 100:.2f}%')\n",
    "\n",
    "# STEP 9: Predict 'subject' for the missing rows in the original 'extweet' dataframe\n",
    "# Filter rows with missing subject\n",
    "missing_subjects = extweet[extweet['subject'].isna()]\n",
    "\n",
    "# STEP 10: Predict for missing rows with tqdm progress tracking\n",
    "def predict_subject_for_missing_rows(row):\n",
    "    # Extract features and predict the subject (Democrat or Republican)\n",
    "    content = row['rawContent']\n",
    "    hashtags = row['hashtags']\n",
    "    combined = content + \" \" + \" \".join(hashtags)\n",
    "    return model.predict([combined])[0]  # Predict and return the label\n",
    "\n",
    "# Apply the prediction function with progress bar\n",
    "extweet.loc[extweet['subject'].isna(), 'subject'] = missing_subjects.progress_apply(predict_subject_for_missing_rows, axis=1)\n",
    "\n",
    "# STEP 11: Check the final DataFrame\n",
    "print(f\"\\nFinal DataFrame with 'subject' column populated: {extweet['subject'].isna().sum()} missing values\")"
   ]
  },
  {
   "cell_type": "code",
   "execution_count": 344,
   "id": "6b93f435-8c59-42a1-8d7f-8fa61630af73",
   "metadata": {
    "collapsed": true,
    "jupyter": {
     "outputs_hidden": true
    }
   },
   "outputs": [
    {
     "name": "stdout",
     "output_type": "stream",
     "text": [
      "\n",
      "Class Distribution:\n",
      " subject\n",
      "Republican    77783\n",
      "Democrat      77546\n",
      "Name: count, dtype: int64\n",
      "\n",
      "Accuracy on test set: 99.71%\n",
      "\n",
      "Classification Report:\n",
      "\n",
      "              precision    recall  f1-score   support\n",
      "\n",
      "    Democrat       1.00      1.00      1.00     15503\n",
      "  Republican       1.00      1.00      1.00     15563\n",
      "\n",
      "    accuracy                           1.00     31066\n",
      "   macro avg       1.00      1.00      1.00     31066\n",
      "weighted avg       1.00      1.00      1.00     31066\n",
      "\n",
      "\n",
      "Cross-validation accuracy: 99.75%\n"
     ]
    },
    {
     "name": "stderr",
     "output_type": "stream",
     "text": [
      "Processing Rows: 100%|██████████| 71783/71783 [01:34<00:00, 759.50it/s]"
     ]
    },
    {
     "name": "stdout",
     "output_type": "stream",
     "text": [
      "\n",
      "Final DataFrame check: 0 missing values remaining.\n"
     ]
    },
    {
     "name": "stderr",
     "output_type": "stream",
     "text": [
      "\n"
     ]
    }
   ],
   "source": [
    "# Import core libraries for model building\n",
    "from sklearn.model_selection import train_test_split, cross_val_score, GridSearchCV\n",
    "from sklearn.feature_extraction.text import TfidfVectorizer\n",
    "from sklearn.linear_model import LogisticRegression\n",
    "from sklearn.pipeline import Pipeline\n",
    "from sklearn.metrics import accuracy_score, classification_report\n",
    "from tqdm import tqdm\n",
    "import re\n",
    "\n",
    "# Initialize tqdm to show progress bars on DataFrame operations\n",
    "tqdm.pandas(desc=\"Processing Rows\")\n",
    "\n",
    "# STEP 1: Define a text cleaning function\n",
    "# This function will remove URLs, mentions, hash symbols, and extra whitespace\n",
    "def clean_text(text):\n",
    "    text = re.sub(r\"http\\S+\", \"\", str(text))            # Remove URLs\n",
    "    text = re.sub(r\"@\\w+\", \"\", text)                    # Remove Twitter handles\n",
    "    text = re.sub(r\"#\", \"\", text)                       # Remove '#' but retain the word\n",
    "    text = re.sub(r\"\\s+\", \" \", text).strip()            # Normalize whitespace\n",
    "    return text\n",
    "\n",
    "# STEP 2: Apply the text cleaning to the 'text' column\n",
    "extweet['text'] = extweet['text'].astype(str).apply(clean_text)\n",
    "\n",
    "# STEP 3: Combine 'text' and 'hashtags' for richer feature representation\n",
    "# Hashtags are joined into a single string, appended to cleaned content\n",
    "extweet['combined_features'] = extweet['text'] + \" \" + extweet['hashtags'].apply(lambda x: \" \".join(x))\n",
    "\n",
    "# STEP 4: Prepare the training data\n",
    "# Remove rows where the label 'subject' is missing\n",
    "train_data = extweet.dropna(subset=[\"subject\"])\n",
    "\n",
    "# Separate features and labels\n",
    "X = train_data['combined_features']  # Text input\n",
    "y = train_data['subject']            # Class label: Democrat or Republican\n",
    "\n",
    "# STEP 5: Check for class imbalance\n",
    "# Display count of each label to decide whether balancing is needed\n",
    "print(\"\\nClass Distribution:\\n\", y.value_counts())\n",
    "\n",
    "# STEP 6: Split the data into training and testing sets\n",
    "# 80% training, 20% testing, fixed random_state for reproducibility\n",
    "X_train, X_test, y_train, y_test = train_test_split(\n",
    "    X, y, test_size=0.2, random_state=42\n",
    ")\n",
    "\n",
    "# STEP 7: Build a Machine Learning Pipeline\n",
    "# Includes TF-IDF vectorization and Logistic Regression classifier\n",
    "model = Pipeline([\n",
    "    ('tfidf', TfidfVectorizer(\n",
    "        stop_words='english',        # Remove common English stopwords\n",
    "        max_features=10000,          # Limit vocab size to top 10,000 terms\n",
    "        ngram_range=(1, 2),          # Use both unigrams and bigrams\n",
    "        min_df=5,                    # Ignore words in fewer than 5 docs\n",
    "        max_df=0.9                   # Ignore overly common words\n",
    "    )),\n",
    "    ('clf', LogisticRegression(\n",
    "        max_iter=1000,\n",
    "        class_weight='balanced',     # Automatically adjust weights for imbalanced classes\n",
    "        random_state=42\n",
    "    ))\n",
    "])\n",
    "\n",
    "# STEP 8: Train the model on training data\n",
    "model.fit(X_train, y_train)\n",
    "\n",
    "# STEP 9: Make predictions on the test set\n",
    "y_pred = model.predict(X_test)\n",
    "\n",
    "# STEP 10: Evaluate model performance using accuracy and classification report\n",
    "accuracy = accuracy_score(y_test, y_pred)\n",
    "print(f'\\nAccuracy on test set: {accuracy * 100:.2f}%')\n",
    "print(\"\\nClassification Report:\\n\")\n",
    "print(classification_report(y_test, y_pred))\n",
    "\n",
    "# STEP 11: Cross-validation for generalization check\n",
    "cross_val = cross_val_score(model, X, y, cv=5)\n",
    "print(f'\\nCross-validation accuracy: {cross_val.mean() * 100:.2f}%')\n",
    "\n",
    "# STEP 13: Predict 'subject' for the missing rows in the original DataFrame\n",
    "# Reuse the same text cleaning and feature combining logic for consistency\n",
    "def predict_subject_for_missing_rows(row):\n",
    "    content = clean_text(row['text'])\n",
    "    hashtags = \" \".join(row['hashtags'])\n",
    "    combined = content + \" \" + hashtags\n",
    "    return model.predict([combined])[0]  # Predict class label\n",
    "\n",
    "# Apply prediction function with tqdm progress bar\n",
    "extweet.loc[extweet['subject'].isna(), 'subject'] = extweet[extweet['subject'].isna()].progress_apply(\n",
    "    predict_subject_for_missing_rows, axis=1\n",
    ")\n",
    "\n",
    "# STEP 14: Final check for remaining missing values in the 'subject' column\n",
    "print(f\"\\nFinal DataFrame check: {extweet['subject'].isna().sum()} missing values remaining.\")"
   ]
  },
  {
   "cell_type": "code",
   "execution_count": null,
   "id": "da22d0b1-3622-4de1-8950-3925caa87af4",
   "metadata": {
    "collapsed": true,
    "jupyter": {
     "outputs_hidden": true
    }
   },
   "outputs": [],
   "source": [
    "extweet[[\"subject\",\"text\", \"hashtags\"]].sample(50)"
   ]
  },
  {
   "cell_type": "code",
   "execution_count": 348,
   "id": "529b1cca-cc46-482d-a624-2cad0788d71a",
   "metadata": {
    "collapsed": true,
    "jupyter": {
     "outputs_hidden": true
    }
   },
   "outputs": [],
   "source": [
    "extweet.to_csv(r\"D:\\UCD\\Geostatistics\\Project\\usc-x-24-us-election-main\\Output2\\Tweet_PartyClassified_.csv\", index=False)"
   ]
  },
  {
   "cell_type": "code",
   "execution_count": null,
   "id": "6273069f-4b9c-4183-892a-ed3c39612e89",
   "metadata": {
    "collapsed": true,
    "jupyter": {
     "outputs_hidden": true
    }
   },
   "outputs": [],
   "source": [
    "extweet = pd.read_csv(r\"D:\\UCD\\Geostatistics\\Project\\usc-x-24-us-election-main\\Output2\\Tweet_PartyClassified_.csv\", index_col=False)"
   ]
  },
  {
   "cell_type": "markdown",
   "id": "8eaa00c7-869a-4078-a0b2-c94b5c9685c0",
   "metadata": {},
   "source": [
    "### Stage 5: Sentiment Analysis"
   ]
  },
  {
   "cell_type": "code",
   "execution_count": null,
   "id": "dc88beec-2196-4a13-a7ee-0b2e5e156391",
   "metadata": {
    "collapsed": true,
    "jupyter": {
     "outputs_hidden": true
    }
   },
   "outputs": [],
   "source": [
    "extweet = pd.read_csv(r\"D:\\UCD\\Geostatistics\\Project\\usc-x-24-us-election-main\\Output2\\Tweet_PartyClassified_.csv\", index_col=False)"
   ]
  },
  {
   "cell_type": "markdown",
   "id": "a1486a79-4235-43f9-91df-d856cc7f1361",
   "metadata": {},
   "source": [
    "#### Sentiment Analysis on Classified (Tweet Subject) Tweets"
   ]
  },
  {
   "cell_type": "code",
   "execution_count": 388,
   "id": "8ba168a8-3eb9-42d8-b14b-6852a4f278de",
   "metadata": {
    "collapsed": true,
    "jupyter": {
     "outputs_hidden": true
    }
   },
   "outputs": [
    {
     "name": "stderr",
     "output_type": "stream",
     "text": [
      "[nltk_data] Downloading package vader_lexicon to\n",
      "[nltk_data]     C:\\Users\\Rhitwik\\AppData\\Roaming\\nltk_data...\n",
      "[nltk_data]   Package vader_lexicon is already up-to-date!\n",
      "100%|██████████| 227112/227112 [03:01<00:00, 1248.75it/s]\n"
     ]
    },
    {
     "data": {
      "image/png": "[encoded data removed]",
      "text/plain": [
       "<Figure size 1000x600 with 1 Axes>"
      ]
     },
     "metadata": {},
     "output_type": "display_data"
    }
   ],
   "source": [
    "import nltk\n",
    "from nltk.sentiment.vader import SentimentIntensityAnalyzer\n",
    "from tqdm import tqdm\n",
    "import seaborn as sns\n",
    "import matplotlib.pyplot as plt\n",
    "tqdm.pandas()\n",
    "\n",
    "# STEP 1: Download the VADER lexicon (if not already downloaded)\n",
    "nltk.download('vader_lexicon')\n",
    "\n",
    "# STEP 2: Initialize the VADER SentimentIntensityAnalyzer\n",
    "sia = SentimentIntensityAnalyzer()\n",
    "\n",
    "# Adding custom lexicon for political sentiment analysis\n",
    "custom_political_lexicon = {\n",
    "    # Positive Sentiment Terms\n",
    "    \"visionary\": 2.5,\n",
    "    \"decisive\": 2.0,\n",
    "    \"principled\": 2.0,\n",
    "    \"transparent\": 1.8,\n",
    "    \"competent\": 2.2,\n",
    "    \"experienced\": 1.9,\n",
    "    \"charismatic\": 2.3,\n",
    "    \"respected\": 2.1,\n",
    "    \"bipartisan\": 1.7,\n",
    "    \"inclusive\": 1.8,\n",
    "    \"progressive\": 1.5,\n",
    "    \"forward-thinking\": 2.0,\n",
    "    \"collaborative\": 1.6,\n",
    "    \"nation-building\": 1.9,\n",
    "    \"hopeful\": 1.7,\n",
    "    \"economic growth\": 2.4,\n",
    "    \"job creation\": 2.3,\n",
    "    \"tax relief\": 1.8,\n",
    "    \"healthcare reform\": 1.9,\n",
    "    \"strong defense\": 2.0,\n",
    "    \"education funding\": 1.7,\n",
    "    \"climate action\": 1.6,\n",
    "    \"unity\": 2.0,\n",
    "    \"leadership\": 2.2,\n",
    "    \"integrity\": 2.5,\n",
    "    \"patriot\": 2.0,\n",
    "    \"patriotic\": 2.1,\n",
    "    \"freedom\": 2.3,\n",
    "    \"liberty\": 2.2,\n",
    "    \"justice\": 2.4,\n",
    "    \"equality\": 2.1,\n",
    "    \"democracy\": 2.5,\n",
    "\n",
    "    # Negative Sentiment Terms\n",
    "    \"indicted\": -2.5,\n",
    "    \"convicted\": -2.7,\n",
    "    \"fraud\": -2.8,\n",
    "    \"corrupt\": -3.0,\n",
    "    \"bribery\": -2.6,\n",
    "    \"cover-up\": -2.4,\n",
    "    \"impeachment\": -2.2,\n",
    "    \"resign\": -1.9,\n",
    "    \"criminal\": -3.0,\n",
    "    \"investigation\": -1.8,\n",
    "    \"radical\": -2.0,\n",
    "    \"extremist\": -2.5,\n",
    "    \"traitor\": -3.2,\n",
    "    \"unfit\": -2.1,\n",
    "    \"liar\": -2.9,\n",
    "    \"hypocrite\": -2.6,\n",
    "    \"disgrace\": -2.7,\n",
    "    \"authoritarian\": -2.8,\n",
    "    \"dictator\": -3.0,\n",
    "    \"bigot\": -2.9,\n",
    "    \"job-killing\": -2.3,\n",
    "    \"tax hike\": -2.0,\n",
    "    \"inflation\": -2.5,\n",
    "    \"recession\": -2.7,\n",
    "    \"debt crisis\": -2.6,\n",
    "    \"open borders\": -2.2,\n",
    "    \"weak leadership\": -2.4,\n",
    "    \"failed policy\": -2.3,\n",
    "    \"scandal\": -2.8,\n",
    "    \"coverup\": -2.5,\n",
    "    \"nepotism\": -2.6,\n",
    "    \"cronyism\": -2.7,\n",
    "    \"mismanagement\": -2.4,\n",
    "    \"incompetent\": -2.9,\n",
    "    \"divisive\": -2.2,\n",
    "    \"polarizing\": -2.1,\n",
    "    \"suppression\": -2.5,\n",
    "    \"oppression\": -2.6,\n",
    "    \"censorship\": -2.3,\n",
    "    \"propaganda\": -2.4,\n",
    "    \"disinformation\": -2.5,\n",
    "    \"fake news\": -2.7,\n",
    "    \"witch hunt\": -2.6,\n",
    "    \"rigged\": -2.8,\n",
    "    \"stolen election\": -3.0,\n",
    "    \"deep state\": -2.9,\n",
    "    \"swamp\": -2.7,\n",
    "    \"elitist\": -2.0,\n",
    "    \"globalist\": -2.1,\n",
    "    \"socialist\": -2.2,\n",
    "    \"communist\": -2.5,\n",
    "    \"fascist\": -3.0,\n",
    "    \"nazi\": -3.2,\n",
    "    \"racist\": -3.0,\n",
    "    \"sexist\": -2.8,\n",
    "    \"homophobic\": -2.7,\n",
    "    \"xenophobic\": -2.6,\n",
    "    \"misogynist\": -2.9,\n",
    "    \"white supremacist\": -3.1,\n",
    "    \"terrorist\": -3.0,\n",
    "    \"insurrection\": -2.9,\n",
    "    \"coup\": -3.0,\n",
    "    \"treason\": -3.2,\n",
    "    \"sedition\": -3.1,\n",
    "    \"hate speech\": -2.8,\n",
    "    \"violence\": -2.9,\n",
    "    \"riots\": -2.7,\n",
    "    \"looting\": -2.6,\n",
    "    \"anarchy\": -2.5,\n",
    "    \"chaos\": -2.4,\n",
    "    \"lawlessness\": -2.3,\n",
    "    \"authoritarianism\": -2.8,\n",
    "    \"dictatorship\": -3.0,\n",
    "    \"totalitarian\": -3.1,\n",
    "    \"oppressive\": -2.6,\n",
    "    \"surveillance\": -2.2,\n",
    "    \"martial law\": -2.5,\n",
    "    \"police state\": -2.7,\n",
    "    \"coup d'état\": -3.0,\n",
    "    \"civil war\": -3.2,\n",
    "    \"genocide\": -3.5,\n",
    "    \"ethnic cleansing\": -3.4,\n",
    "    \"war crimes\": -3.3,\n",
    "    \"human rights violation\": -3.2,\n",
    "    \"torture\": -3.1,\n",
    "    \"detention\": -2.4,\n",
    "    \"extrajudicial\": -2.5,\n",
    "    \"black site\": -2.6,\n",
    "    \"rendition\": -2.7,\n",
    "    \"espionage\": -2.8,\n",
    "    \"treachery\": -2.9,\n",
    "    \"betrayal\": -2.6,\n",
    "    \"backstabbing\": -2.5,\n",
    "    \"deceit\": -2.7,\n",
    "    \"manipulation\": -2.4,\n",
    "    \"brainwashing\": -2.6,\n",
    "    \"indoctrination\": -2.5,\n",
    "    \"cult\": -2.3,\n",
    "    \"fanatic\": -2.2,\n",
    "    \"zealot\": -2.1,\n",
    "    \"extremism\": -2.4,\n",
    "    \"militant\": -2.3,\n",
    "    \"radicalism\": -2.5,\n",
    "    \"terrorism\": -3.0,\n",
    "    \"jihad\": -2.9,\n",
    "    \"martyrdom\": -2.8,\n",
    "    \"suicide bomber\": -3.2,\n",
    "    \"massacre\": -3.3,\n",
    "    \"bloodshed\": -3.0,\n",
    "    \"slaughter\": -3.1}\n",
    " \n",
    "sia.lexicon.update(custom_political_lexicon)\n",
    "\n",
    "# STEP 3: Function to calculate sentiment and compound score with adjusted thresholds\n",
    "def get_sentiment_and_compound_score(text):\n",
    "    # Using the polarity_scores method from SentimentIntensityAnalyzer\n",
    "    sentiment_score = sia.polarity_scores(text)\n",
    "    compound_score = sentiment_score['compound']\n",
    "    \n",
    "    # Assign a sentiment label based on adjusted compound score thresholds\n",
    "    if compound_score >= 0.05:\n",
    "        sentiment = 'positive'\n",
    "    elif compound_score <= -0.05:\n",
    "        sentiment = 'negative'\n",
    "    else:\n",
    "        sentiment = 'neutral' \n",
    "    \n",
    "    return sentiment, compound_score\n",
    "\n",
    "# STEP 4: Apply sentiment analysis to 'rawContent' and create new columns for 'sentiment' and 'compound_score'\n",
    "extweet[['sentiment', 'compound_score']] = extweet['rawContent'].progress_apply(\n",
    "    lambda x: pd.Series(get_sentiment_and_compound_score(x))\n",
    ")\n",
    "\n",
    "# STEP 5: Plot the distribution of compound sentiment scores\n",
    "plt.figure(figsize=(10, 6))\n",
    "sns.histplot(extweet['compound_score'], bins=30, kde=True, color='skyblue', edgecolor='black')\n",
    "plt.title('Distribution of VADER Compound Sentiment Scores')\n",
    "plt.xlabel('Compound Score')\n",
    "plt.ylabel('Tweet Count')\n",
    "plt.grid(axis='y', linestyle='--', alpha=0.7)\n",
    "plt.show()"
   ]
  },
  {
   "cell_type": "code",
   "execution_count": 385,
   "id": "47909c27-3f0f-499d-b49a-eb93b85a1ce5",
   "metadata": {
    "collapsed": true,
    "jupyter": {
     "outputs_hidden": true
    },
    "scrolled": true
   },
   "outputs": [
    {
     "data": {
      "text/plain": [
       "(107312, 5)"
      ]
     },
     "execution_count": 385,
     "metadata": {},
     "output_type": "execute_result"
    }
   ],
   "source": [
    "extweet[extweet[\"subject\"].apply(lambda x: x != \"Republican\")][[\"subject\", \"sentiment\", \"compound_score\", \"text\", \"STATE_NAME\"]].shape"
   ]
  },
  {
   "cell_type": "code",
   "execution_count": 354,
   "id": "fac19214-f6bb-4ad1-8615-f7aaf9d3b03f",
   "metadata": {
    "collapsed": true,
    "jupyter": {
     "outputs_hidden": true
    }
   },
   "outputs": [],
   "source": [
    "extweet.to_csv(r\"D:\\UCD\\Geostatistics\\Project\\usc-x-24-us-election-main\\Output2\\SentimentAnalysis_Final.csv\", index=False)"
   ]
  },
  {
   "cell_type": "code",
   "execution_count": 400,
   "id": "48d27c0e-5d74-45fa-a415-08e9cf6c16d2",
   "metadata": {
    "collapsed": true,
    "jupyter": {
     "outputs_hidden": true
    }
   },
   "outputs": [
    {
     "data": {
      "text/plain": [
       "STATE_NAME      subject     sentiment\n",
       "Alabama         Democrat    negative       140\n",
       "                            positive        86\n",
       "                            neutral         52\n",
       "                Republican  positive       117\n",
       "                            negative       116\n",
       "                            neutral         48\n",
       "Alaska          Democrat    positive        20\n",
       "                            negative        17\n",
       "                            neutral          9\n",
       "                Republican  positive        42\n",
       "                            negative        29\n",
       "                            neutral         14\n",
       "Arizona         Democrat    positive       114\n",
       "                            negative        99\n",
       "                            neutral         63\n",
       "                Republican  positive       315\n",
       "                            negative       202\n",
       "                            neutral        131\n",
       "Arkansas        Democrat    negative        17\n",
       "                            positive         9\n",
       "                            neutral          5\n",
       "                Republican  positive        33\n",
       "                            negative        24\n",
       "                            neutral         18\n",
       "California      Democrat    negative       270\n",
       "                            positive       227\n",
       "                            neutral        123\n",
       "                Republican  negative       333\n",
       "                            positive       315\n",
       "                            neutral        187\n",
       "Colorado        Democrat    negative     12040\n",
       "                            positive      8450\n",
       "                            neutral       7661\n",
       "                Republican  positive     13804\n",
       "                            negative     12342\n",
       "                            neutral      11334\n",
       "Connecticut     Democrat    positive        12\n",
       "                            negative        11\n",
       "                            neutral          7\n",
       "                Republican  negative        25\n",
       "                            positive        17\n",
       "                            neutral         12\n",
       "Florida         Democrat    negative       298\n",
       "                            positive       222\n",
       "                            neutral        102\n",
       "                Republican  negative       578\n",
       "                            positive       457\n",
       "                            neutral        271\n",
       "Georgia         Democrat    negative       192\n",
       "                            positive       142\n",
       "                            neutral         52\n",
       "                Republican  negative       241\n",
       "                            positive       201\n",
       "                            neutral        111\n",
       "Hawaii          Democrat    negative        70\n",
       "                            positive        62\n",
       "                            neutral         19\n",
       "                Republican  positive       149\n",
       "                            negative        82\n",
       "                            neutral         74\n",
       "Idaho           Democrat    positive        79\n",
       "                            negative        65\n",
       "                            neutral         21\n",
       "                Republican  positive       137\n",
       "                            negative       130\n",
       "                            neutral         45\n",
       "Illinois        Democrat    negative        35\n",
       "                            positive         9\n",
       "                            neutral          5\n",
       "                Republican  negative        47\n",
       "                            positive        47\n",
       "                            neutral         17\n",
       "Indiana         Democrat    negative     26816\n",
       "                            positive     19546\n",
       "                            neutral       7108\n",
       "                Republican  negative     21493\n",
       "                            positive     21230\n",
       "                            neutral       7223\n",
       "Iowa            Democrat    positive        44\n",
       "                            negative        43\n",
       "                            neutral         18\n",
       "                Republican  positive        41\n",
       "                            negative        38\n",
       "                            neutral         17\n",
       "Kansas          Democrat    negative        19\n",
       "                            neutral          9\n",
       "                            positive         6\n",
       "                Republican  negative        18\n",
       "                            neutral         15\n",
       "                            positive        15\n",
       "Kentucky        Democrat    negative        16\n",
       "                            positive         7\n",
       "                            neutral          2\n",
       "                Republican  negative        33\n",
       "                            positive        18\n",
       "                            neutral          6\n",
       "Louisiana       Democrat    negative        55\n",
       "                            positive        36\n",
       "                            neutral         19\n",
       "                Republican  positive        69\n",
       "                            negative        58\n",
       "                            neutral         28\n",
       "Maine           Democrat    negative      2149\n",
       "                            positive      2019\n",
       "                            neutral        620\n",
       "                Republican  positive      3147\n",
       "                            negative      2607\n",
       "                            neutral       1138\n",
       "Maryland        Democrat    negative        28\n",
       "                            positive        15\n",
       "                            neutral         11\n",
       "                Republican  negative        28\n",
       "                            positive        28\n",
       "                            neutral         14\n",
       "Massachusetts   Democrat    negative        32\n",
       "                            positive        25\n",
       "                            neutral          4\n",
       "                Republican  positive        75\n",
       "                            neutral         37\n",
       "                            negative        34\n",
       "Michigan        Democrat    positive       160\n",
       "                            negative       153\n",
       "                            neutral         48\n",
       "                Republican  positive       162\n",
       "                            negative       120\n",
       "                            neutral         60\n",
       "Minnesota       Democrat    negative        66\n",
       "                            positive        50\n",
       "                            neutral         29\n",
       "                Republican  positive       120\n",
       "                            negative       107\n",
       "                            neutral         54\n",
       "Mississippi     Democrat    negative        42\n",
       "                            positive        42\n",
       "                            neutral          8\n",
       "                Republican  positive        51\n",
       "                            negative        42\n",
       "                            neutral         29\n",
       "Missouri        Democrat    negative        43\n",
       "                            positive        34\n",
       "                            neutral         22\n",
       "                Republican  negative        77\n",
       "                            positive        67\n",
       "                            neutral         29\n",
       "Montana         Democrat    negative        29\n",
       "                            positive        24\n",
       "                            neutral         10\n",
       "                Republican  positive       195\n",
       "                            negative       158\n",
       "                            neutral        123\n",
       "Nebraska        Democrat    negative         9\n",
       "                            positive         9\n",
       "                            neutral          5\n",
       "                Republican  positive        36\n",
       "                            negative        30\n",
       "                            neutral         18\n",
       "Nevada          Democrat    negative        36\n",
       "                            positive        33\n",
       "                            neutral          8\n",
       "                Republican  negative        52\n",
       "                            positive        42\n",
       "                            neutral         19\n",
       "New Hampshire   Democrat    positive        17\n",
       "                            negative         6\n",
       "                            neutral          5\n",
       "                Republican  positive        28\n",
       "                            negative        10\n",
       "                            neutral          4\n",
       "New Jersey      Democrat    negative        18\n",
       "                            positive        15\n",
       "                            neutral          1\n",
       "                Republican  positive        34\n",
       "                            negative        26\n",
       "                            neutral         10\n",
       "New Mexico      Democrat    negative        13\n",
       "                            neutral          5\n",
       "                            positive         5\n",
       "                Republican  negative        20\n",
       "                            positive         9\n",
       "                            neutral          7\n",
       "New York        Democrat    negative       363\n",
       "                            positive       265\n",
       "                            neutral        109\n",
       "                Republican  negative       435\n",
       "                            positive       341\n",
       "                            neutral        145\n",
       "North Carolina  Democrat    negative       210\n",
       "                            positive       168\n",
       "                            neutral         88\n",
       "                Republican  negative       204\n",
       "                            positive       142\n",
       "                            neutral         97\n",
       "North Dakota    Democrat    negative         9\n",
       "                            positive         5\n",
       "                            neutral          2\n",
       "                Republican  positive        26\n",
       "                            neutral         14\n",
       "                            negative        10\n",
       "Ohio            Democrat    negative       915\n",
       "                            positive       848\n",
       "                            neutral        307\n",
       "                Republican  negative      1158\n",
       "                            positive      1075\n",
       "                            neutral        407\n",
       "Oklahoma        Democrat    positive       615\n",
       "                            negative       353\n",
       "                            neutral         38\n",
       "                Republican  positive       767\n",
       "                            negative       368\n",
       "                            neutral         46\n",
       "Oregon          Democrat    negative      5440\n",
       "                            positive      4021\n",
       "                            neutral       1437\n",
       "                Republican  negative      4818\n",
       "                            positive      4330\n",
       "                            neutral       1353\n",
       "Pennsylvania    Democrat    positive       153\n",
       "                            negative       135\n",
       "                            neutral         53\n",
       "                Republican  positive       270\n",
       "                            negative       206\n",
       "                            neutral        121\n",
       "Rhode Island    Democrat    positive         5\n",
       "                            negative         4\n",
       "                            neutral          1\n",
       "                Republican  neutral          7\n",
       "                            negative         4\n",
       "                            positive         4\n",
       "South Carolina  Democrat    positive        51\n",
       "                            negative        42\n",
       "                            neutral          8\n",
       "                Republican  negative        52\n",
       "                            positive        45\n",
       "                            neutral         14\n",
       "South Dakota    Democrat    negative         2\n",
       "                Republican  negative        15\n",
       "                            positive        14\n",
       "                            neutral          4\n",
       "Tennessee       Democrat    negative        23\n",
       "                            positive        21\n",
       "                            neutral         14\n",
       "                Republican  positive        58\n",
       "                            negative        40\n",
       "                            neutral         30\n",
       "Texas           Democrat    negative       204\n",
       "                            positive       150\n",
       "                            neutral         58\n",
       "                Republican  positive       270\n",
       "                            negative       257\n",
       "                            neutral        141\n",
       "Utah            Democrat    negative         5\n",
       "                            neutral          5\n",
       "                            positive         5\n",
       "                Republican  positive        58\n",
       "                            negative        32\n",
       "                            neutral         27\n",
       "Vermont         Democrat    positive        10\n",
       "                            negative         7\n",
       "                            neutral          4\n",
       "                Republican  positive        14\n",
       "                            negative         8\n",
       "                            neutral          2\n",
       "Virginia        Democrat    positive        58\n",
       "                            negative        50\n",
       "                            neutral         21\n",
       "                Republican  positive       125\n",
       "                            negative        76\n",
       "                            neutral         54\n",
       "Washington      Democrat    negative       138\n",
       "                            positive       121\n",
       "                            neutral         60\n",
       "                Republican  positive       191\n",
       "                            neutral        139\n",
       "                            negative       129\n",
       "West Virginia   Democrat    negative        12\n",
       "                            positive        12\n",
       "                            neutral          1\n",
       "                Republican  positive        14\n",
       "                            negative         7\n",
       "                            neutral          7\n",
       "Wisconsin       Democrat    positive       121\n",
       "                            neutral         88\n",
       "                            negative        77\n",
       "                Republican  positive       183\n",
       "                            negative       116\n",
       "                            neutral        115\n",
       "Wyoming         Democrat    positive         2\n",
       "                            neutral          1\n",
       "                Republican  positive        15\n",
       "                            neutral          4\n",
       "                            negative         2\n",
       "Name: count, dtype: int64"
      ]
     },
     "execution_count": 400,
     "metadata": {},
     "output_type": "execute_result"
    }
   ],
   "source": [
    "extweet.groupby([\"STATE_NAME\", \"subject\"])[\"sentiment\"].value_counts()"
   ]
  },
  {
   "cell_type": "code",
   "execution_count": 401,
   "id": "fe7e8ee2-c1d9-4592-952f-1e6a254e6b14",
   "metadata": {
    "collapsed": true,
    "jupyter": {
     "outputs_hidden": true
    }
   },
   "outputs": [],
   "source": [
    "aggregation = extweet.groupby([\"STATE_NAME\", \"subject\"])[\"sentiment\"].value_counts().reset_index()\n",
    "positive = aggregation[aggregation[\"sentiment\"]==\"positive\"]"
   ]
  },
  {
   "cell_type": "code",
   "execution_count": 402,
   "id": "85371215-3bba-41a4-839f-788ceaecd129",
   "metadata": {
    "collapsed": true,
    "jupyter": {
     "outputs_hidden": true
    }
   },
   "outputs": [
    {
     "name": "stderr",
     "output_type": "stream",
     "text": [
      "C:\\Users\\Rhitwik\\AppData\\Local\\Temp\\ipykernel_21808\\2277137434.py:3: SettingWithCopyWarning: \n",
      "A value is trying to be set on a copy of a slice from a DataFrame.\n",
      "Try using .loc[row_indexer,col_indexer] = value instead\n",
      "\n",
      "See the caveats in the documentation: https://pandas.pydata.org/pandas-docs/stable/user_guide/indexing.html#returning-a-view-versus-a-copy\n",
      "  winners[\"STATE_CENTROIDX\"] = extweet[\"STATE_CENTROIDX\"]\n",
      "C:\\Users\\Rhitwik\\AppData\\Local\\Temp\\ipykernel_21808\\2277137434.py:4: SettingWithCopyWarning: \n",
      "A value is trying to be set on a copy of a slice from a DataFrame.\n",
      "Try using .loc[row_indexer,col_indexer] = value instead\n",
      "\n",
      "See the caveats in the documentation: https://pandas.pydata.org/pandas-docs/stable/user_guide/indexing.html#returning-a-view-versus-a-copy\n",
      "  winners[\"STATE_CENTROIDY\"] = extweet[\"STATE_CENTROIDY\"]\n"
     ]
    },
    {
     "data": {
      "text/html": [
       "<div>\n",
       "<style scoped>\n",
       "    .dataframe tbody tr th:only-of-type {\n",
       "        vertical-align: middle;\n",
       "    }\n",
       "\n",
       "    .dataframe tbody tr th {\n",
       "        vertical-align: top;\n",
       "    }\n",
       "\n",
       "    .dataframe thead th {\n",
       "        text-align: right;\n",
       "    }\n",
       "</style>\n",
       "<table border=\"1\" class=\"dataframe\">\n",
       "  <thead>\n",
       "    <tr style=\"text-align: right;\">\n",
       "      <th></th>\n",
       "      <th>STATE_NAME</th>\n",
       "      <th>subject</th>\n",
       "      <th>sentiment</th>\n",
       "      <th>count</th>\n",
       "      <th>STATE_CENTROIDX</th>\n",
       "      <th>STATE_CENTROIDY</th>\n",
       "    </tr>\n",
       "  </thead>\n",
       "  <tbody>\n",
       "    <tr>\n",
       "      <th>3</th>\n",
       "      <td>Alabama</td>\n",
       "      <td>Republican</td>\n",
       "      <td>positive</td>\n",
       "      <td>117</td>\n",
       "      <td>-86.275656</td>\n",
       "      <td>39.908071</td>\n",
       "    </tr>\n",
       "    <tr>\n",
       "      <th>9</th>\n",
       "      <td>Alaska</td>\n",
       "      <td>Republican</td>\n",
       "      <td>positive</td>\n",
       "      <td>42</td>\n",
       "      <td>-86.275656</td>\n",
       "      <td>39.908071</td>\n",
       "    </tr>\n",
       "    <tr>\n",
       "      <th>15</th>\n",
       "      <td>Arizona</td>\n",
       "      <td>Republican</td>\n",
       "      <td>positive</td>\n",
       "      <td>315</td>\n",
       "      <td>-120.555388</td>\n",
       "      <td>43.936647</td>\n",
       "    </tr>\n",
       "    <tr>\n",
       "      <th>21</th>\n",
       "      <td>Arkansas</td>\n",
       "      <td>Republican</td>\n",
       "      <td>positive</td>\n",
       "      <td>33</td>\n",
       "      <td>-105.547815</td>\n",
       "      <td>38.998546</td>\n",
       "    </tr>\n",
       "    <tr>\n",
       "      <th>28</th>\n",
       "      <td>California</td>\n",
       "      <td>Republican</td>\n",
       "      <td>positive</td>\n",
       "      <td>315</td>\n",
       "      <td>-86.275656</td>\n",
       "      <td>39.908071</td>\n",
       "    </tr>\n",
       "    <tr>\n",
       "      <th>33</th>\n",
       "      <td>Colorado</td>\n",
       "      <td>Republican</td>\n",
       "      <td>positive</td>\n",
       "      <td>13804</td>\n",
       "      <td>-105.547815</td>\n",
       "      <td>38.998546</td>\n",
       "    </tr>\n",
       "    <tr>\n",
       "      <th>40</th>\n",
       "      <td>Connecticut</td>\n",
       "      <td>Republican</td>\n",
       "      <td>positive</td>\n",
       "      <td>17</td>\n",
       "      <td>-120.555388</td>\n",
       "      <td>43.936647</td>\n",
       "    </tr>\n",
       "    <tr>\n",
       "      <th>46</th>\n",
       "      <td>Florida</td>\n",
       "      <td>Republican</td>\n",
       "      <td>positive</td>\n",
       "      <td>457</td>\n",
       "      <td>-86.275656</td>\n",
       "      <td>39.908071</td>\n",
       "    </tr>\n",
       "    <tr>\n",
       "      <th>52</th>\n",
       "      <td>Georgia</td>\n",
       "      <td>Republican</td>\n",
       "      <td>positive</td>\n",
       "      <td>201</td>\n",
       "      <td>-86.275656</td>\n",
       "      <td>39.908071</td>\n",
       "    </tr>\n",
       "    <tr>\n",
       "      <th>57</th>\n",
       "      <td>Hawaii</td>\n",
       "      <td>Republican</td>\n",
       "      <td>positive</td>\n",
       "      <td>149</td>\n",
       "      <td>-86.275656</td>\n",
       "      <td>39.908071</td>\n",
       "    </tr>\n",
       "    <tr>\n",
       "      <th>63</th>\n",
       "      <td>Idaho</td>\n",
       "      <td>Republican</td>\n",
       "      <td>positive</td>\n",
       "      <td>137</td>\n",
       "      <td>-105.547815</td>\n",
       "      <td>38.998546</td>\n",
       "    </tr>\n",
       "    <tr>\n",
       "      <th>70</th>\n",
       "      <td>Illinois</td>\n",
       "      <td>Republican</td>\n",
       "      <td>positive</td>\n",
       "      <td>47</td>\n",
       "      <td>-86.275656</td>\n",
       "      <td>39.908071</td>\n",
       "    </tr>\n",
       "    <tr>\n",
       "      <th>76</th>\n",
       "      <td>Indiana</td>\n",
       "      <td>Republican</td>\n",
       "      <td>positive</td>\n",
       "      <td>21230</td>\n",
       "      <td>-86.275656</td>\n",
       "      <td>39.908071</td>\n",
       "    </tr>\n",
       "    <tr>\n",
       "      <th>78</th>\n",
       "      <td>Iowa</td>\n",
       "      <td>Democrat</td>\n",
       "      <td>positive</td>\n",
       "      <td>44</td>\n",
       "      <td>-86.275656</td>\n",
       "      <td>39.908071</td>\n",
       "    </tr>\n",
       "    <tr>\n",
       "      <th>89</th>\n",
       "      <td>Kansas</td>\n",
       "      <td>Republican</td>\n",
       "      <td>positive</td>\n",
       "      <td>15</td>\n",
       "      <td>-105.547815</td>\n",
       "      <td>38.998546</td>\n",
       "    </tr>\n",
       "    <tr>\n",
       "      <th>94</th>\n",
       "      <td>Kentucky</td>\n",
       "      <td>Republican</td>\n",
       "      <td>positive</td>\n",
       "      <td>18</td>\n",
       "      <td>-105.547815</td>\n",
       "      <td>38.998546</td>\n",
       "    </tr>\n",
       "    <tr>\n",
       "      <th>99</th>\n",
       "      <td>Louisiana</td>\n",
       "      <td>Republican</td>\n",
       "      <td>positive</td>\n",
       "      <td>69</td>\n",
       "      <td>-69.226647</td>\n",
       "      <td>45.371424</td>\n",
       "    </tr>\n",
       "    <tr>\n",
       "      <th>105</th>\n",
       "      <td>Maine</td>\n",
       "      <td>Republican</td>\n",
       "      <td>positive</td>\n",
       "      <td>3147</td>\n",
       "      <td>-105.547815</td>\n",
       "      <td>38.998546</td>\n",
       "    </tr>\n",
       "    <tr>\n",
       "      <th>112</th>\n",
       "      <td>Maryland</td>\n",
       "      <td>Republican</td>\n",
       "      <td>positive</td>\n",
       "      <td>28</td>\n",
       "      <td>-86.275656</td>\n",
       "      <td>39.908071</td>\n",
       "    </tr>\n",
       "    <tr>\n",
       "      <th>117</th>\n",
       "      <td>Massachusetts</td>\n",
       "      <td>Republican</td>\n",
       "      <td>positive</td>\n",
       "      <td>75</td>\n",
       "      <td>-120.555388</td>\n",
       "      <td>43.936647</td>\n",
       "    </tr>\n",
       "    <tr>\n",
       "      <th>123</th>\n",
       "      <td>Michigan</td>\n",
       "      <td>Republican</td>\n",
       "      <td>positive</td>\n",
       "      <td>162</td>\n",
       "      <td>-82.790057</td>\n",
       "      <td>40.291444</td>\n",
       "    </tr>\n",
       "    <tr>\n",
       "      <th>129</th>\n",
       "      <td>Minnesota</td>\n",
       "      <td>Republican</td>\n",
       "      <td>positive</td>\n",
       "      <td>120</td>\n",
       "      <td>-120.555388</td>\n",
       "      <td>43.936647</td>\n",
       "    </tr>\n",
       "    <tr>\n",
       "      <th>135</th>\n",
       "      <td>Mississippi</td>\n",
       "      <td>Republican</td>\n",
       "      <td>positive</td>\n",
       "      <td>51</td>\n",
       "      <td>-105.547815</td>\n",
       "      <td>38.998546</td>\n",
       "    </tr>\n",
       "    <tr>\n",
       "      <th>142</th>\n",
       "      <td>Missouri</td>\n",
       "      <td>Republican</td>\n",
       "      <td>positive</td>\n",
       "      <td>67</td>\n",
       "      <td>-86.275656</td>\n",
       "      <td>39.908071</td>\n",
       "    </tr>\n",
       "    <tr>\n",
       "      <th>147</th>\n",
       "      <td>Montana</td>\n",
       "      <td>Republican</td>\n",
       "      <td>positive</td>\n",
       "      <td>195</td>\n",
       "      <td>-86.275656</td>\n",
       "      <td>39.908071</td>\n",
       "    </tr>\n",
       "    <tr>\n",
       "      <th>153</th>\n",
       "      <td>Nebraska</td>\n",
       "      <td>Republican</td>\n",
       "      <td>positive</td>\n",
       "      <td>36</td>\n",
       "      <td>-86.275656</td>\n",
       "      <td>39.908071</td>\n",
       "    </tr>\n",
       "    <tr>\n",
       "      <th>160</th>\n",
       "      <td>Nevada</td>\n",
       "      <td>Republican</td>\n",
       "      <td>positive</td>\n",
       "      <td>42</td>\n",
       "      <td>-105.547815</td>\n",
       "      <td>38.998546</td>\n",
       "    </tr>\n",
       "    <tr>\n",
       "      <th>165</th>\n",
       "      <td>New Hampshire</td>\n",
       "      <td>Republican</td>\n",
       "      <td>positive</td>\n",
       "      <td>28</td>\n",
       "      <td>-86.275656</td>\n",
       "      <td>39.908071</td>\n",
       "    </tr>\n",
       "    <tr>\n",
       "      <th>171</th>\n",
       "      <td>New Jersey</td>\n",
       "      <td>Republican</td>\n",
       "      <td>positive</td>\n",
       "      <td>34</td>\n",
       "      <td>-69.226647</td>\n",
       "      <td>45.371424</td>\n",
       "    </tr>\n",
       "    <tr>\n",
       "      <th>178</th>\n",
       "      <td>New Mexico</td>\n",
       "      <td>Republican</td>\n",
       "      <td>positive</td>\n",
       "      <td>9</td>\n",
       "      <td>-69.226647</td>\n",
       "      <td>45.371424</td>\n",
       "    </tr>\n",
       "    <tr>\n",
       "      <th>184</th>\n",
       "      <td>New York</td>\n",
       "      <td>Republican</td>\n",
       "      <td>positive</td>\n",
       "      <td>341</td>\n",
       "      <td>-86.275656</td>\n",
       "      <td>39.908071</td>\n",
       "    </tr>\n",
       "    <tr>\n",
       "      <th>187</th>\n",
       "      <td>North Carolina</td>\n",
       "      <td>Democrat</td>\n",
       "      <td>positive</td>\n",
       "      <td>168</td>\n",
       "      <td>-86.275656</td>\n",
       "      <td>39.908071</td>\n",
       "    </tr>\n",
       "    <tr>\n",
       "      <th>195</th>\n",
       "      <td>North Dakota</td>\n",
       "      <td>Republican</td>\n",
       "      <td>positive</td>\n",
       "      <td>26</td>\n",
       "      <td>-86.275656</td>\n",
       "      <td>39.908071</td>\n",
       "    </tr>\n",
       "    <tr>\n",
       "      <th>202</th>\n",
       "      <td>Ohio</td>\n",
       "      <td>Republican</td>\n",
       "      <td>positive</td>\n",
       "      <td>1075</td>\n",
       "      <td>-152.221108</td>\n",
       "      <td>64.217626</td>\n",
       "    </tr>\n",
       "    <tr>\n",
       "      <th>207</th>\n",
       "      <td>Oklahoma</td>\n",
       "      <td>Republican</td>\n",
       "      <td>positive</td>\n",
       "      <td>767</td>\n",
       "      <td>-120.555388</td>\n",
       "      <td>43.936647</td>\n",
       "    </tr>\n",
       "    <tr>\n",
       "      <th>214</th>\n",
       "      <td>Oregon</td>\n",
       "      <td>Republican</td>\n",
       "      <td>positive</td>\n",
       "      <td>4330</td>\n",
       "      <td>-86.828367</td>\n",
       "      <td>32.789826</td>\n",
       "    </tr>\n",
       "    <tr>\n",
       "      <th>219</th>\n",
       "      <td>Pennsylvania</td>\n",
       "      <td>Republican</td>\n",
       "      <td>positive</td>\n",
       "      <td>270</td>\n",
       "      <td>-120.555388</td>\n",
       "      <td>43.936647</td>\n",
       "    </tr>\n",
       "    <tr>\n",
       "      <th>222</th>\n",
       "      <td>Rhode Island</td>\n",
       "      <td>Democrat</td>\n",
       "      <td>positive</td>\n",
       "      <td>5</td>\n",
       "      <td>-86.275656</td>\n",
       "      <td>39.908071</td>\n",
       "    </tr>\n",
       "    <tr>\n",
       "      <th>228</th>\n",
       "      <td>South Carolina</td>\n",
       "      <td>Democrat</td>\n",
       "      <td>positive</td>\n",
       "      <td>51</td>\n",
       "      <td>-120.555388</td>\n",
       "      <td>43.936647</td>\n",
       "    </tr>\n",
       "    <tr>\n",
       "      <th>236</th>\n",
       "      <td>South Dakota</td>\n",
       "      <td>Republican</td>\n",
       "      <td>positive</td>\n",
       "      <td>14</td>\n",
       "      <td>-105.547815</td>\n",
       "      <td>38.998546</td>\n",
       "    </tr>\n",
       "    <tr>\n",
       "      <th>241</th>\n",
       "      <td>Tennessee</td>\n",
       "      <td>Republican</td>\n",
       "      <td>positive</td>\n",
       "      <td>58</td>\n",
       "      <td>-86.275656</td>\n",
       "      <td>39.908071</td>\n",
       "    </tr>\n",
       "    <tr>\n",
       "      <th>247</th>\n",
       "      <td>Texas</td>\n",
       "      <td>Republican</td>\n",
       "      <td>positive</td>\n",
       "      <td>270</td>\n",
       "      <td>-105.547815</td>\n",
       "      <td>38.998546</td>\n",
       "    </tr>\n",
       "    <tr>\n",
       "      <th>253</th>\n",
       "      <td>Utah</td>\n",
       "      <td>Republican</td>\n",
       "      <td>positive</td>\n",
       "      <td>58</td>\n",
       "      <td>-78.812252</td>\n",
       "      <td>37.515016</td>\n",
       "    </tr>\n",
       "    <tr>\n",
       "      <th>259</th>\n",
       "      <td>Vermont</td>\n",
       "      <td>Republican</td>\n",
       "      <td>positive</td>\n",
       "      <td>14</td>\n",
       "      <td>-105.547815</td>\n",
       "      <td>38.998546</td>\n",
       "    </tr>\n",
       "    <tr>\n",
       "      <th>265</th>\n",
       "      <td>Virginia</td>\n",
       "      <td>Republican</td>\n",
       "      <td>positive</td>\n",
       "      <td>125</td>\n",
       "      <td>-69.226647</td>\n",
       "      <td>45.371424</td>\n",
       "    </tr>\n",
       "    <tr>\n",
       "      <th>271</th>\n",
       "      <td>Washington</td>\n",
       "      <td>Republican</td>\n",
       "      <td>positive</td>\n",
       "      <td>191</td>\n",
       "      <td>-86.275656</td>\n",
       "      <td>39.908071</td>\n",
       "    </tr>\n",
       "    <tr>\n",
       "      <th>277</th>\n",
       "      <td>West Virginia</td>\n",
       "      <td>Republican</td>\n",
       "      <td>positive</td>\n",
       "      <td>14</td>\n",
       "      <td>-105.547815</td>\n",
       "      <td>38.998546</td>\n",
       "    </tr>\n",
       "    <tr>\n",
       "      <th>283</th>\n",
       "      <td>Wisconsin</td>\n",
       "      <td>Republican</td>\n",
       "      <td>positive</td>\n",
       "      <td>183</td>\n",
       "      <td>-69.226647</td>\n",
       "      <td>45.371424</td>\n",
       "    </tr>\n",
       "    <tr>\n",
       "      <th>288</th>\n",
       "      <td>Wyoming</td>\n",
       "      <td>Republican</td>\n",
       "      <td>positive</td>\n",
       "      <td>15</td>\n",
       "      <td>-120.555388</td>\n",
       "      <td>43.936647</td>\n",
       "    </tr>\n",
       "  </tbody>\n",
       "</table>\n",
       "</div>"
      ],
      "text/plain": [
       "         STATE_NAME     subject sentiment  count  STATE_CENTROIDX  \\\n",
       "3           Alabama  Republican  positive    117       -86.275656   \n",
       "9            Alaska  Republican  positive     42       -86.275656   \n",
       "15          Arizona  Republican  positive    315      -120.555388   \n",
       "21         Arkansas  Republican  positive     33      -105.547815   \n",
       "28       California  Republican  positive    315       -86.275656   \n",
       "33         Colorado  Republican  positive  13804      -105.547815   \n",
       "40      Connecticut  Republican  positive     17      -120.555388   \n",
       "46          Florida  Republican  positive    457       -86.275656   \n",
       "52          Georgia  Republican  positive    201       -86.275656   \n",
       "57           Hawaii  Republican  positive    149       -86.275656   \n",
       "63            Idaho  Republican  positive    137      -105.547815   \n",
       "70         Illinois  Republican  positive     47       -86.275656   \n",
       "76          Indiana  Republican  positive  21230       -86.275656   \n",
       "78             Iowa    Democrat  positive     44       -86.275656   \n",
       "89           Kansas  Republican  positive     15      -105.547815   \n",
       "94         Kentucky  Republican  positive     18      -105.547815   \n",
       "99        Louisiana  Republican  positive     69       -69.226647   \n",
       "105           Maine  Republican  positive   3147      -105.547815   \n",
       "112        Maryland  Republican  positive     28       -86.275656   \n",
       "117   Massachusetts  Republican  positive     75      -120.555388   \n",
       "123        Michigan  Republican  positive    162       -82.790057   \n",
       "129       Minnesota  Republican  positive    120      -120.555388   \n",
       "135     Mississippi  Republican  positive     51      -105.547815   \n",
       "142        Missouri  Republican  positive     67       -86.275656   \n",
       "147         Montana  Republican  positive    195       -86.275656   \n",
       "153        Nebraska  Republican  positive     36       -86.275656   \n",
       "160          Nevada  Republican  positive     42      -105.547815   \n",
       "165   New Hampshire  Republican  positive     28       -86.275656   \n",
       "171      New Jersey  Republican  positive     34       -69.226647   \n",
       "178      New Mexico  Republican  positive      9       -69.226647   \n",
       "184        New York  Republican  positive    341       -86.275656   \n",
       "187  North Carolina    Democrat  positive    168       -86.275656   \n",
       "195    North Dakota  Republican  positive     26       -86.275656   \n",
       "202            Ohio  Republican  positive   1075      -152.221108   \n",
       "207        Oklahoma  Republican  positive    767      -120.555388   \n",
       "214          Oregon  Republican  positive   4330       -86.828367   \n",
       "219    Pennsylvania  Republican  positive    270      -120.555388   \n",
       "222    Rhode Island    Democrat  positive      5       -86.275656   \n",
       "228  South Carolina    Democrat  positive     51      -120.555388   \n",
       "236    South Dakota  Republican  positive     14      -105.547815   \n",
       "241       Tennessee  Republican  positive     58       -86.275656   \n",
       "247           Texas  Republican  positive    270      -105.547815   \n",
       "253            Utah  Republican  positive     58       -78.812252   \n",
       "259         Vermont  Republican  positive     14      -105.547815   \n",
       "265        Virginia  Republican  positive    125       -69.226647   \n",
       "271      Washington  Republican  positive    191       -86.275656   \n",
       "277   West Virginia  Republican  positive     14      -105.547815   \n",
       "283       Wisconsin  Republican  positive    183       -69.226647   \n",
       "288         Wyoming  Republican  positive     15      -120.555388   \n",
       "\n",
       "     STATE_CENTROIDY  \n",
       "3          39.908071  \n",
       "9          39.908071  \n",
       "15         43.936647  \n",
       "21         38.998546  \n",
       "28         39.908071  \n",
       "33         38.998546  \n",
       "40         43.936647  \n",
       "46         39.908071  \n",
       "52         39.908071  \n",
       "57         39.908071  \n",
       "63         38.998546  \n",
       "70         39.908071  \n",
       "76         39.908071  \n",
       "78         39.908071  \n",
       "89         38.998546  \n",
       "94         38.998546  \n",
       "99         45.371424  \n",
       "105        38.998546  \n",
       "112        39.908071  \n",
       "117        43.936647  \n",
       "123        40.291444  \n",
       "129        43.936647  \n",
       "135        38.998546  \n",
       "142        39.908071  \n",
       "147        39.908071  \n",
       "153        39.908071  \n",
       "160        38.998546  \n",
       "165        39.908071  \n",
       "171        45.371424  \n",
       "178        45.371424  \n",
       "184        39.908071  \n",
       "187        39.908071  \n",
       "195        39.908071  \n",
       "202        64.217626  \n",
       "207        43.936647  \n",
       "214        32.789826  \n",
       "219        43.936647  \n",
       "222        39.908071  \n",
       "228        43.936647  \n",
       "236        38.998546  \n",
       "241        39.908071  \n",
       "247        38.998546  \n",
       "253        37.515016  \n",
       "259        38.998546  \n",
       "265        45.371424  \n",
       "271        39.908071  \n",
       "277        38.998546  \n",
       "283        45.371424  \n",
       "288        43.936647  "
      ]
     },
     "execution_count": 402,
     "metadata": {},
     "output_type": "execute_result"
    }
   ],
   "source": [
    "max_counts = positive.groupby(\"STATE_NAME\")['count'].transform('max')\n",
    "winners = positive[positive['count']==max_counts]\n",
    "winners[\"STATE_CENTROIDX\"] = extweet[\"STATE_CENTROIDX\"]\n",
    "winners[\"STATE_CENTROIDY\"] = extweet[\"STATE_CENTROIDY\"]\n",
    "winners"
   ]
  },
  {
   "cell_type": "code",
   "execution_count": null,
   "id": "fdd7930c-ae8a-4e14-92e2-292720aa69a3",
   "metadata": {
    "collapsed": true,
    "jupyter": {
     "outputs_hidden": true
    }
   },
   "outputs": [],
   "source": [
    "winners.to_csv(r\"D:\\UCD\\Geostatistics\\Project\\Output2\\usc-x-24-us-election-main\\Results_final.csv\", index=None)"
   ]
  }
 ],
 "metadata": {
  "kernelspec": {
   "display_name": "Python 3 (ipykernel)",
   "language": "python",
   "name": "python3"
  },
  "language_info": {
   "codemirror_mode": {
    "name": "ipython",
    "version": 3
   },
   "file_extension": ".py",
   "mimetype": "text/x-python",
   "name": "python",
   "nbconvert_exporter": "python",
   "pygments_lexer": "ipython3",
   "version": "3.13.2"
  }
 },
 "nbformat": 4,
 "nbformat_minor": 5
}
